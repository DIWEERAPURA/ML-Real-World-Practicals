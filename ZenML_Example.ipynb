{
  "nbformat": 4,
  "nbformat_minor": 0,
  "metadata": {
    "colab": {
      "provenance": [],
      "authorship_tag": "ABX9TyNdwMLyABB6WwP+VEugw9KT",
      "include_colab_link": true
    },
    "kernelspec": {
      "name": "python3",
      "display_name": "Python 3"
    },
    "language_info": {
      "name": "python"
    }
  },
  "cells": [
    {
      "cell_type": "markdown",
      "metadata": {
        "id": "view-in-github",
        "colab_type": "text"
      },
      "source": [
        "<a href=\"https://colab.research.google.com/github/DIWEERAPURA/ML-Real-World-Practicals/blob/main/ZenML_Example.ipynb\" target=\"_parent\"><img src=\"https://colab.research.google.com/assets/colab-badge.svg\" alt=\"Open In Colab\"/></a>"
      ]
    },
    {
      "cell_type": "code",
      "execution_count": 27,
      "metadata": {
        "colab": {
          "base_uri": "https://localhost:8080/"
        },
        "id": "qPsVtTTBAYCO",
        "outputId": "02a947bf-c760-4fc9-ea09-2d8c3483d8a0"
      },
      "outputs": [
        {
          "output_type": "stream",
          "name": "stdout",
          "text": [
            "Requirement already satisfied: zenml[server] in /usr/local/lib/python3.11/dist-packages (0.75.0)\n",
            "Requirement already satisfied: Jinja2 in /usr/local/lib/python3.11/dist-packages (from zenml[server]) (3.1.6)\n",
            "Requirement already satisfied: alembic<1.9.0,>=1.8.1 in /usr/local/lib/python3.11/dist-packages (from zenml[server]) (1.8.1)\n",
            "Requirement already satisfied: bcrypt==4.0.1 in /usr/local/lib/python3.11/dist-packages (from zenml[server]) (4.0.1)\n",
            "Requirement already satisfied: click<8.1.4,>=8.0.1 in /usr/local/lib/python3.11/dist-packages (from zenml[server]) (8.1.3)\n",
            "Requirement already satisfied: cloudpickle<3,>=2.0.0 in /usr/local/lib/python3.11/dist-packages (from zenml[server]) (2.2.1)\n",
            "Requirement already satisfied: distro<2.0.0,>=1.6.0 in /usr/local/lib/python3.11/dist-packages (from zenml[server]) (1.9.0)\n",
            "Requirement already satisfied: docker<7.2.0,>=7.1.0 in /usr/local/lib/python3.11/dist-packages (from zenml[server]) (7.1.0)\n",
            "Requirement already satisfied: fastapi<=0.115.8,>=0.100 in /usr/local/lib/python3.11/dist-packages (from zenml[server]) (0.115.8)\n",
            "Requirement already satisfied: gitpython<4.0.0,>=3.1.18 in /usr/local/lib/python3.11/dist-packages (from zenml[server]) (3.1.44)\n",
            "Requirement already satisfied: ipinfo>=4.4.3 in /usr/local/lib/python3.11/dist-packages (from zenml[server]) (5.1.1)\n",
            "Requirement already satisfied: itsdangerous<2.3.0,>=2.2.0 in /usr/local/lib/python3.11/dist-packages (from zenml[server]) (2.2.0)\n",
            "Requirement already satisfied: orjson<3.11.0,>=3.10.0 in /usr/local/lib/python3.11/dist-packages (from zenml[server]) (3.10.15)\n",
            "Requirement already satisfied: packaging>=24.1 in /usr/local/lib/python3.11/dist-packages (from zenml[server]) (24.2)\n",
            "Requirement already satisfied: passlib<1.8.0,>=1.7.4 in /usr/local/lib/python3.11/dist-packages (from passlib[bcrypt]<1.8.0,>=1.7.4->zenml[server]) (1.7.4)\n",
            "Requirement already satisfied: psutil>=5.0.0 in /usr/local/lib/python3.11/dist-packages (from zenml[server]) (5.9.5)\n",
            "Requirement already satisfied: pydantic<2.9,>=2.8 in /usr/local/lib/python3.11/dist-packages (from zenml[server]) (2.8.2)\n",
            "Requirement already satisfied: pydantic-settings in /usr/local/lib/python3.11/dist-packages (from zenml[server]) (2.8.1)\n",
            "Requirement already satisfied: pyjwt==2.7.* in /usr/local/lib/python3.11/dist-packages (from pyjwt[crypto]==2.7.*; extra == \"server\"->zenml[server]) (2.7.0)\n",
            "Requirement already satisfied: pymysql<1.2.0,>=1.1.1 in /usr/local/lib/python3.11/dist-packages (from zenml[server]) (1.1.1)\n",
            "Requirement already satisfied: python-dateutil<3.0.0,>=2.8.1 in /usr/local/lib/python3.11/dist-packages (from zenml[server]) (2.8.2)\n",
            "Requirement already satisfied: python-multipart<0.1.0,>=0.0.9 in /usr/local/lib/python3.11/dist-packages (from zenml[server]) (0.0.20)\n",
            "Requirement already satisfied: pyyaml>=6.0.1 in /usr/local/lib/python3.11/dist-packages (from zenml[server]) (6.0.2)\n",
            "Requirement already satisfied: rich>=12.0.0 in /usr/local/lib/python3.11/dist-packages (from rich[jupyter]>=12.0.0->zenml[server]) (13.9.4)\n",
            "Requirement already satisfied: secure<0.4.0,>=0.3.0 in /usr/local/lib/python3.11/dist-packages (from zenml[server]) (0.3.0)\n",
            "Requirement already satisfied: setuptools in /usr/local/lib/python3.11/dist-packages (from zenml[server]) (75.1.0)\n",
            "Requirement already satisfied: sqlalchemy<3.0.0,>=2.0.0 in /usr/local/lib/python3.11/dist-packages (from zenml[server]) (2.0.39)\n",
            "Requirement already satisfied: sqlalchemy_utils in /usr/local/lib/python3.11/dist-packages (from zenml[server]) (0.41.2)\n",
            "Requirement already satisfied: sqlmodel==0.0.18 in /usr/local/lib/python3.11/dist-packages (from zenml[server]) (0.0.18)\n",
            "Requirement already satisfied: tldextract<5.2.0,>=5.1.0 in /usr/local/lib/python3.11/dist-packages (from zenml[server]) (5.1.3)\n",
            "Requirement already satisfied: uvicorn>=0.17.5 in /usr/local/lib/python3.11/dist-packages (from uvicorn[standard]>=0.17.5; extra == \"server\"->zenml[server]) (0.34.0)\n",
            "Requirement already satisfied: cryptography>=3.4.0 in /usr/local/lib/python3.11/dist-packages (from pyjwt[crypto]==2.7.*; extra == \"server\"->zenml[server]) (43.0.3)\n",
            "Requirement already satisfied: Mako in /usr/local/lib/python3.11/dist-packages (from alembic<1.9.0,>=1.8.1->zenml[server]) (1.3.9)\n",
            "Requirement already satisfied: requests>=2.26.0 in /usr/local/lib/python3.11/dist-packages (from docker<7.2.0,>=7.1.0->zenml[server]) (2.32.3)\n",
            "Requirement already satisfied: urllib3>=1.26.0 in /usr/local/lib/python3.11/dist-packages (from docker<7.2.0,>=7.1.0->zenml[server]) (2.3.0)\n",
            "Requirement already satisfied: starlette<0.46.0,>=0.40.0 in /usr/local/lib/python3.11/dist-packages (from fastapi<=0.115.8,>=0.100->zenml[server]) (0.45.3)\n",
            "Requirement already satisfied: typing-extensions>=4.8.0 in /usr/local/lib/python3.11/dist-packages (from fastapi<=0.115.8,>=0.100->zenml[server]) (4.12.2)\n",
            "Requirement already satisfied: gitdb<5,>=4.0.1 in /usr/local/lib/python3.11/dist-packages (from gitpython<4.0.0,>=3.1.18->zenml[server]) (4.0.12)\n",
            "Requirement already satisfied: cachetools in /usr/local/lib/python3.11/dist-packages (from ipinfo>=4.4.3->zenml[server]) (5.5.2)\n",
            "Requirement already satisfied: aiohttp<=4 in /usr/local/lib/python3.11/dist-packages (from ipinfo>=4.4.3->zenml[server]) (3.11.13)\n",
            "Requirement already satisfied: annotated-types>=0.4.0 in /usr/local/lib/python3.11/dist-packages (from pydantic<2.9,>=2.8->zenml[server]) (0.7.0)\n",
            "Requirement already satisfied: pydantic-core==2.20.1 in /usr/local/lib/python3.11/dist-packages (from pydantic<2.9,>=2.8->zenml[server]) (2.20.1)\n",
            "Requirement already satisfied: six>=1.5 in /usr/local/lib/python3.11/dist-packages (from python-dateutil<3.0.0,>=2.8.1->zenml[server]) (1.17.0)\n",
            "Requirement already satisfied: markdown-it-py>=2.2.0 in /usr/local/lib/python3.11/dist-packages (from rich>=12.0.0->rich[jupyter]>=12.0.0->zenml[server]) (3.0.0)\n",
            "Requirement already satisfied: pygments<3.0.0,>=2.13.0 in /usr/local/lib/python3.11/dist-packages (from rich>=12.0.0->rich[jupyter]>=12.0.0->zenml[server]) (2.18.0)\n",
            "Requirement already satisfied: ipywidgets<9,>=7.5.1 in /usr/local/lib/python3.11/dist-packages (from rich[jupyter]>=12.0.0->zenml[server]) (7.7.1)\n",
            "Requirement already satisfied: greenlet!=0.4.17 in /usr/local/lib/python3.11/dist-packages (from sqlalchemy<3.0.0,>=2.0.0->zenml[server]) (3.1.1)\n",
            "Requirement already satisfied: idna in /usr/local/lib/python3.11/dist-packages (from tldextract<5.2.0,>=5.1.0->zenml[server]) (3.10)\n",
            "Requirement already satisfied: requests-file>=1.4 in /usr/local/lib/python3.11/dist-packages (from tldextract<5.2.0,>=5.1.0->zenml[server]) (2.1.0)\n",
            "Requirement already satisfied: filelock>=3.0.8 in /usr/local/lib/python3.11/dist-packages (from tldextract<5.2.0,>=5.1.0->zenml[server]) (3.17.0)\n",
            "Requirement already satisfied: h11>=0.8 in /usr/local/lib/python3.11/dist-packages (from uvicorn>=0.17.5->uvicorn[standard]>=0.17.5; extra == \"server\"->zenml[server]) (0.14.0)\n",
            "Requirement already satisfied: httptools>=0.6.3 in /usr/local/lib/python3.11/dist-packages (from uvicorn[standard]>=0.17.5; extra == \"server\"->zenml[server]) (0.6.4)\n",
            "Requirement already satisfied: python-dotenv>=0.13 in /usr/local/lib/python3.11/dist-packages (from uvicorn[standard]>=0.17.5; extra == \"server\"->zenml[server]) (1.0.1)\n",
            "Requirement already satisfied: uvloop!=0.15.0,!=0.15.1,>=0.14.0 in /usr/local/lib/python3.11/dist-packages (from uvicorn[standard]>=0.17.5; extra == \"server\"->zenml[server]) (0.21.0)\n",
            "Requirement already satisfied: watchfiles>=0.13 in /usr/local/lib/python3.11/dist-packages (from uvicorn[standard]>=0.17.5; extra == \"server\"->zenml[server]) (1.0.4)\n",
            "Requirement already satisfied: websockets>=10.4 in /usr/local/lib/python3.11/dist-packages (from uvicorn[standard]>=0.17.5; extra == \"server\"->zenml[server]) (14.2)\n",
            "Requirement already satisfied: MarkupSafe>=2.0 in /usr/local/lib/python3.11/dist-packages (from Jinja2->zenml[server]) (3.0.2)\n",
            "Requirement already satisfied: aiohappyeyeballs>=2.3.0 in /usr/local/lib/python3.11/dist-packages (from aiohttp<=4->ipinfo>=4.4.3->zenml[server]) (2.6.1)\n",
            "Requirement already satisfied: aiosignal>=1.1.2 in /usr/local/lib/python3.11/dist-packages (from aiohttp<=4->ipinfo>=4.4.3->zenml[server]) (1.3.2)\n",
            "Requirement already satisfied: attrs>=17.3.0 in /usr/local/lib/python3.11/dist-packages (from aiohttp<=4->ipinfo>=4.4.3->zenml[server]) (25.2.0)\n",
            "Requirement already satisfied: frozenlist>=1.1.1 in /usr/local/lib/python3.11/dist-packages (from aiohttp<=4->ipinfo>=4.4.3->zenml[server]) (1.5.0)\n",
            "Requirement already satisfied: multidict<7.0,>=4.5 in /usr/local/lib/python3.11/dist-packages (from aiohttp<=4->ipinfo>=4.4.3->zenml[server]) (6.1.0)\n",
            "Requirement already satisfied: propcache>=0.2.0 in /usr/local/lib/python3.11/dist-packages (from aiohttp<=4->ipinfo>=4.4.3->zenml[server]) (0.3.0)\n",
            "Requirement already satisfied: yarl<2.0,>=1.17.0 in /usr/local/lib/python3.11/dist-packages (from aiohttp<=4->ipinfo>=4.4.3->zenml[server]) (1.18.3)\n",
            "Requirement already satisfied: cffi>=1.12 in /usr/local/lib/python3.11/dist-packages (from cryptography>=3.4.0->pyjwt[crypto]==2.7.*; extra == \"server\"->zenml[server]) (1.17.1)\n",
            "Requirement already satisfied: smmap<6,>=3.0.1 in /usr/local/lib/python3.11/dist-packages (from gitdb<5,>=4.0.1->gitpython<4.0.0,>=3.1.18->zenml[server]) (5.0.2)\n",
            "Requirement already satisfied: ipykernel>=4.5.1 in /usr/local/lib/python3.11/dist-packages (from ipywidgets<9,>=7.5.1->rich[jupyter]>=12.0.0->zenml[server]) (6.17.1)\n",
            "Requirement already satisfied: ipython-genutils~=0.2.0 in /usr/local/lib/python3.11/dist-packages (from ipywidgets<9,>=7.5.1->rich[jupyter]>=12.0.0->zenml[server]) (0.2.0)\n",
            "Requirement already satisfied: traitlets>=4.3.1 in /usr/local/lib/python3.11/dist-packages (from ipywidgets<9,>=7.5.1->rich[jupyter]>=12.0.0->zenml[server]) (5.7.1)\n",
            "Requirement already satisfied: widgetsnbextension~=3.6.0 in /usr/local/lib/python3.11/dist-packages (from ipywidgets<9,>=7.5.1->rich[jupyter]>=12.0.0->zenml[server]) (3.6.10)\n",
            "Requirement already satisfied: ipython>=4.0.0 in /usr/local/lib/python3.11/dist-packages (from ipywidgets<9,>=7.5.1->rich[jupyter]>=12.0.0->zenml[server]) (7.34.0)\n",
            "Requirement already satisfied: jupyterlab-widgets>=1.0.0 in /usr/local/lib/python3.11/dist-packages (from ipywidgets<9,>=7.5.1->rich[jupyter]>=12.0.0->zenml[server]) (3.0.13)\n",
            "Requirement already satisfied: mdurl~=0.1 in /usr/local/lib/python3.11/dist-packages (from markdown-it-py>=2.2.0->rich>=12.0.0->rich[jupyter]>=12.0.0->zenml[server]) (0.1.2)\n",
            "Requirement already satisfied: charset-normalizer<4,>=2 in /usr/local/lib/python3.11/dist-packages (from requests>=2.26.0->docker<7.2.0,>=7.1.0->zenml[server]) (3.4.1)\n",
            "Requirement already satisfied: certifi>=2017.4.17 in /usr/local/lib/python3.11/dist-packages (from requests>=2.26.0->docker<7.2.0,>=7.1.0->zenml[server]) (2025.1.31)\n",
            "Requirement already satisfied: anyio<5,>=3.6.2 in /usr/local/lib/python3.11/dist-packages (from starlette<0.46.0,>=0.40.0->fastapi<=0.115.8,>=0.100->zenml[server]) (3.7.1)\n",
            "Requirement already satisfied: sniffio>=1.1 in /usr/local/lib/python3.11/dist-packages (from anyio<5,>=3.6.2->starlette<0.46.0,>=0.40.0->fastapi<=0.115.8,>=0.100->zenml[server]) (1.3.1)\n",
            "Requirement already satisfied: pycparser in /usr/local/lib/python3.11/dist-packages (from cffi>=1.12->cryptography>=3.4.0->pyjwt[crypto]==2.7.*; extra == \"server\"->zenml[server]) (2.22)\n",
            "Requirement already satisfied: debugpy>=1.0 in /usr/local/lib/python3.11/dist-packages (from ipykernel>=4.5.1->ipywidgets<9,>=7.5.1->rich[jupyter]>=12.0.0->zenml[server]) (1.8.0)\n",
            "Requirement already satisfied: jupyter-client>=6.1.12 in /usr/local/lib/python3.11/dist-packages (from ipykernel>=4.5.1->ipywidgets<9,>=7.5.1->rich[jupyter]>=12.0.0->zenml[server]) (6.1.12)\n",
            "Requirement already satisfied: matplotlib-inline>=0.1 in /usr/local/lib/python3.11/dist-packages (from ipykernel>=4.5.1->ipywidgets<9,>=7.5.1->rich[jupyter]>=12.0.0->zenml[server]) (0.1.7)\n",
            "Requirement already satisfied: nest-asyncio in /usr/local/lib/python3.11/dist-packages (from ipykernel>=4.5.1->ipywidgets<9,>=7.5.1->rich[jupyter]>=12.0.0->zenml[server]) (1.6.0)\n",
            "Requirement already satisfied: pyzmq>=17 in /usr/local/lib/python3.11/dist-packages (from ipykernel>=4.5.1->ipywidgets<9,>=7.5.1->rich[jupyter]>=12.0.0->zenml[server]) (24.0.1)\n",
            "Requirement already satisfied: tornado>=6.1 in /usr/local/lib/python3.11/dist-packages (from ipykernel>=4.5.1->ipywidgets<9,>=7.5.1->rich[jupyter]>=12.0.0->zenml[server]) (6.4.2)\n",
            "Requirement already satisfied: jedi>=0.16 in /usr/local/lib/python3.11/dist-packages (from ipython>=4.0.0->ipywidgets<9,>=7.5.1->rich[jupyter]>=12.0.0->zenml[server]) (0.19.2)\n",
            "Requirement already satisfied: decorator in /usr/local/lib/python3.11/dist-packages (from ipython>=4.0.0->ipywidgets<9,>=7.5.1->rich[jupyter]>=12.0.0->zenml[server]) (4.4.2)\n",
            "Requirement already satisfied: pickleshare in /usr/local/lib/python3.11/dist-packages (from ipython>=4.0.0->ipywidgets<9,>=7.5.1->rich[jupyter]>=12.0.0->zenml[server]) (0.7.5)\n",
            "Requirement already satisfied: prompt-toolkit!=3.0.0,!=3.0.1,<3.1.0,>=2.0.0 in /usr/local/lib/python3.11/dist-packages (from ipython>=4.0.0->ipywidgets<9,>=7.5.1->rich[jupyter]>=12.0.0->zenml[server]) (3.0.50)\n",
            "Requirement already satisfied: backcall in /usr/local/lib/python3.11/dist-packages (from ipython>=4.0.0->ipywidgets<9,>=7.5.1->rich[jupyter]>=12.0.0->zenml[server]) (0.2.0)\n",
            "Requirement already satisfied: pexpect>4.3 in /usr/local/lib/python3.11/dist-packages (from ipython>=4.0.0->ipywidgets<9,>=7.5.1->rich[jupyter]>=12.0.0->zenml[server]) (4.9.0)\n",
            "Requirement already satisfied: notebook>=4.4.1 in /usr/local/lib/python3.11/dist-packages (from widgetsnbextension~=3.6.0->ipywidgets<9,>=7.5.1->rich[jupyter]>=12.0.0->zenml[server]) (6.5.5)\n",
            "Requirement already satisfied: parso<0.9.0,>=0.8.4 in /usr/local/lib/python3.11/dist-packages (from jedi>=0.16->ipython>=4.0.0->ipywidgets<9,>=7.5.1->rich[jupyter]>=12.0.0->zenml[server]) (0.8.4)\n",
            "Requirement already satisfied: jupyter-core>=4.6.0 in /usr/local/lib/python3.11/dist-packages (from jupyter-client>=6.1.12->ipykernel>=4.5.1->ipywidgets<9,>=7.5.1->rich[jupyter]>=12.0.0->zenml[server]) (5.7.2)\n",
            "Requirement already satisfied: argon2-cffi in /usr/local/lib/python3.11/dist-packages (from notebook>=4.4.1->widgetsnbextension~=3.6.0->ipywidgets<9,>=7.5.1->rich[jupyter]>=12.0.0->zenml[server]) (23.1.0)\n",
            "Requirement already satisfied: nbformat in /usr/local/lib/python3.11/dist-packages (from notebook>=4.4.1->widgetsnbextension~=3.6.0->ipywidgets<9,>=7.5.1->rich[jupyter]>=12.0.0->zenml[server]) (5.10.4)\n",
            "Requirement already satisfied: nbconvert>=5 in /usr/local/lib/python3.11/dist-packages (from notebook>=4.4.1->widgetsnbextension~=3.6.0->ipywidgets<9,>=7.5.1->rich[jupyter]>=12.0.0->zenml[server]) (7.16.6)\n",
            "Requirement already satisfied: Send2Trash>=1.8.0 in /usr/local/lib/python3.11/dist-packages (from notebook>=4.4.1->widgetsnbextension~=3.6.0->ipywidgets<9,>=7.5.1->rich[jupyter]>=12.0.0->zenml[server]) (1.8.3)\n",
            "Requirement already satisfied: terminado>=0.8.3 in /usr/local/lib/python3.11/dist-packages (from notebook>=4.4.1->widgetsnbextension~=3.6.0->ipywidgets<9,>=7.5.1->rich[jupyter]>=12.0.0->zenml[server]) (0.18.1)\n",
            "Requirement already satisfied: prometheus-client in /usr/local/lib/python3.11/dist-packages (from notebook>=4.4.1->widgetsnbextension~=3.6.0->ipywidgets<9,>=7.5.1->rich[jupyter]>=12.0.0->zenml[server]) (0.21.1)\n",
            "Requirement already satisfied: nbclassic>=0.4.7 in /usr/local/lib/python3.11/dist-packages (from notebook>=4.4.1->widgetsnbextension~=3.6.0->ipywidgets<9,>=7.5.1->rich[jupyter]>=12.0.0->zenml[server]) (1.2.0)\n",
            "Requirement already satisfied: ptyprocess>=0.5 in /usr/local/lib/python3.11/dist-packages (from pexpect>4.3->ipython>=4.0.0->ipywidgets<9,>=7.5.1->rich[jupyter]>=12.0.0->zenml[server]) (0.7.0)\n",
            "Requirement already satisfied: wcwidth in /usr/local/lib/python3.11/dist-packages (from prompt-toolkit!=3.0.0,!=3.0.1,<3.1.0,>=2.0.0->ipython>=4.0.0->ipywidgets<9,>=7.5.1->rich[jupyter]>=12.0.0->zenml[server]) (0.2.13)\n",
            "Requirement already satisfied: platformdirs>=2.5 in /usr/local/lib/python3.11/dist-packages (from jupyter-core>=4.6.0->jupyter-client>=6.1.12->ipykernel>=4.5.1->ipywidgets<9,>=7.5.1->rich[jupyter]>=12.0.0->zenml[server]) (4.3.6)\n",
            "Requirement already satisfied: notebook-shim>=0.2.3 in /usr/local/lib/python3.11/dist-packages (from nbclassic>=0.4.7->notebook>=4.4.1->widgetsnbextension~=3.6.0->ipywidgets<9,>=7.5.1->rich[jupyter]>=12.0.0->zenml[server]) (0.2.4)\n",
            "Requirement already satisfied: beautifulsoup4 in /usr/local/lib/python3.11/dist-packages (from nbconvert>=5->notebook>=4.4.1->widgetsnbextension~=3.6.0->ipywidgets<9,>=7.5.1->rich[jupyter]>=12.0.0->zenml[server]) (4.13.3)\n",
            "Requirement already satisfied: bleach!=5.0.0 in /usr/local/lib/python3.11/dist-packages (from bleach[css]!=5.0.0->nbconvert>=5->notebook>=4.4.1->widgetsnbextension~=3.6.0->ipywidgets<9,>=7.5.1->rich[jupyter]>=12.0.0->zenml[server]) (6.2.0)\n",
            "Requirement already satisfied: defusedxml in /usr/local/lib/python3.11/dist-packages (from nbconvert>=5->notebook>=4.4.1->widgetsnbextension~=3.6.0->ipywidgets<9,>=7.5.1->rich[jupyter]>=12.0.0->zenml[server]) (0.7.1)\n",
            "Requirement already satisfied: jupyterlab-pygments in /usr/local/lib/python3.11/dist-packages (from nbconvert>=5->notebook>=4.4.1->widgetsnbextension~=3.6.0->ipywidgets<9,>=7.5.1->rich[jupyter]>=12.0.0->zenml[server]) (0.3.0)\n",
            "Requirement already satisfied: mistune<4,>=2.0.3 in /usr/local/lib/python3.11/dist-packages (from nbconvert>=5->notebook>=4.4.1->widgetsnbextension~=3.6.0->ipywidgets<9,>=7.5.1->rich[jupyter]>=12.0.0->zenml[server]) (3.1.2)\n",
            "Requirement already satisfied: nbclient>=0.5.0 in /usr/local/lib/python3.11/dist-packages (from nbconvert>=5->notebook>=4.4.1->widgetsnbextension~=3.6.0->ipywidgets<9,>=7.5.1->rich[jupyter]>=12.0.0->zenml[server]) (0.10.2)\n",
            "Requirement already satisfied: pandocfilters>=1.4.1 in /usr/local/lib/python3.11/dist-packages (from nbconvert>=5->notebook>=4.4.1->widgetsnbextension~=3.6.0->ipywidgets<9,>=7.5.1->rich[jupyter]>=12.0.0->zenml[server]) (1.5.1)\n",
            "Requirement already satisfied: fastjsonschema>=2.15 in /usr/local/lib/python3.11/dist-packages (from nbformat->notebook>=4.4.1->widgetsnbextension~=3.6.0->ipywidgets<9,>=7.5.1->rich[jupyter]>=12.0.0->zenml[server]) (2.21.1)\n",
            "Requirement already satisfied: jsonschema>=2.6 in /usr/local/lib/python3.11/dist-packages (from nbformat->notebook>=4.4.1->widgetsnbextension~=3.6.0->ipywidgets<9,>=7.5.1->rich[jupyter]>=12.0.0->zenml[server]) (4.23.0)\n",
            "Requirement already satisfied: argon2-cffi-bindings in /usr/local/lib/python3.11/dist-packages (from argon2-cffi->notebook>=4.4.1->widgetsnbextension~=3.6.0->ipywidgets<9,>=7.5.1->rich[jupyter]>=12.0.0->zenml[server]) (21.2.0)\n",
            "Requirement already satisfied: webencodings in /usr/local/lib/python3.11/dist-packages (from bleach!=5.0.0->bleach[css]!=5.0.0->nbconvert>=5->notebook>=4.4.1->widgetsnbextension~=3.6.0->ipywidgets<9,>=7.5.1->rich[jupyter]>=12.0.0->zenml[server]) (0.5.1)\n",
            "Requirement already satisfied: tinycss2<1.5,>=1.1.0 in /usr/local/lib/python3.11/dist-packages (from bleach[css]!=5.0.0->nbconvert>=5->notebook>=4.4.1->widgetsnbextension~=3.6.0->ipywidgets<9,>=7.5.1->rich[jupyter]>=12.0.0->zenml[server]) (1.4.0)\n",
            "Requirement already satisfied: jsonschema-specifications>=2023.03.6 in /usr/local/lib/python3.11/dist-packages (from jsonschema>=2.6->nbformat->notebook>=4.4.1->widgetsnbextension~=3.6.0->ipywidgets<9,>=7.5.1->rich[jupyter]>=12.0.0->zenml[server]) (2024.10.1)\n",
            "Requirement already satisfied: referencing>=0.28.4 in /usr/local/lib/python3.11/dist-packages (from jsonschema>=2.6->nbformat->notebook>=4.4.1->widgetsnbextension~=3.6.0->ipywidgets<9,>=7.5.1->rich[jupyter]>=12.0.0->zenml[server]) (0.36.2)\n",
            "Requirement already satisfied: rpds-py>=0.7.1 in /usr/local/lib/python3.11/dist-packages (from jsonschema>=2.6->nbformat->notebook>=4.4.1->widgetsnbextension~=3.6.0->ipywidgets<9,>=7.5.1->rich[jupyter]>=12.0.0->zenml[server]) (0.23.1)\n",
            "Requirement already satisfied: jupyter-server<3,>=1.8 in /usr/local/lib/python3.11/dist-packages (from notebook-shim>=0.2.3->nbclassic>=0.4.7->notebook>=4.4.1->widgetsnbextension~=3.6.0->ipywidgets<9,>=7.5.1->rich[jupyter]>=12.0.0->zenml[server]) (1.24.0)\n",
            "Requirement already satisfied: soupsieve>1.2 in /usr/local/lib/python3.11/dist-packages (from beautifulsoup4->nbconvert>=5->notebook>=4.4.1->widgetsnbextension~=3.6.0->ipywidgets<9,>=7.5.1->rich[jupyter]>=12.0.0->zenml[server]) (2.6)\n",
            "Requirement already satisfied: websocket-client in /usr/local/lib/python3.11/dist-packages (from jupyter-server<3,>=1.8->notebook-shim>=0.2.3->nbclassic>=0.4.7->notebook>=4.4.1->widgetsnbextension~=3.6.0->ipywidgets<9,>=7.5.1->rich[jupyter]>=12.0.0->zenml[server]) (1.8.0)\n",
            "\u001b[2K\u001b[32m⠧\u001b[0m Installing integrations...\n",
            "\u001b[1A\u001b[2KRequirement already satisfied: pyparsing==2.4.2 in /usr/local/lib/python3.11/dist-packages (2.4.2)\n"
          ]
        },
        {
          "output_type": "execute_result",
          "data": {
            "text/plain": [
              "{'status': 'ok', 'restart': True}"
            ]
          },
          "metadata": {},
          "execution_count": 27
        }
      ],
      "source": [
        "# Install ZenML and necessary dependencies\n",
        "!pip install \"zenml[server]\"\n",
        "!zenml integration install sklearn -y\n",
        "!pip install pyparsing==2.4.2  # Required for Colab compatibility\n",
        "\n",
        "import os\n",
        "import IPython\n",
        "\n",
        "# Restart the kernel automatically (recommended for Colab after installing packages)\n",
        "IPython.Application.instance().kernel.do_shutdown(restart=True)\n"
      ]
    },
    {
      "cell_type": "code",
      "source": [
        "NGROK_TOKEN =  \"your token here\""
      ],
      "metadata": {
        "id": "LSiHIkXGAtZm"
      },
      "execution_count": 1,
      "outputs": []
    },
    {
      "cell_type": "code",
      "source": [
        "from zenml.environment import Environment\n",
        "\n",
        "if Environment.in_google_colab():  # Colab-only setup\n",
        "    # Install and authenticate ngrok\n",
        "    !pip install pyngrok\n",
        "    !ngrok authtoken (NGROK_TOKEN)\n",
        "\n"
      ],
      "metadata": {
        "colab": {
          "base_uri": "https://localhost:8080/"
        },
        "id": "ElJsksRNDUWP",
        "outputId": "546ef1b5-4f56-4727-f92a-77b7ef63eb3c"
      },
      "execution_count": 2,
      "outputs": [
        {
          "output_type": "stream",
          "name": "stdout",
          "text": [
            "Requirement already satisfied: pyngrok in /usr/local/lib/python3.11/dist-packages (7.2.3)\n",
            "Requirement already satisfied: PyYAML>=5.1 in /usr/local/lib/python3.11/dist-packages (from pyngrok) (6.0.2)\n",
            "/bin/bash: -c: line 1: syntax error near unexpected token `('\n",
            "/bin/bash: -c: line 1: `ngrok authtoken (NGROK_TOKEN)'\n"
          ]
        }
      ]
    },
    {
      "cell_type": "code",
      "source": [
        "!rm -rf .zen\n",
        "!zenml init\n",
        "\n"
      ],
      "metadata": {
        "colab": {
          "base_uri": "https://localhost:8080/"
        },
        "id": "lZEx6ND2DgOF",
        "outputId": "fcb65fbc-7731-4bda-ec83-52c19de35c73"
      },
      "execution_count": 3,
      "outputs": [
        {
          "output_type": "stream",
          "name": "stdout",
          "text": [
            "\u001b[?25l\u001b[32m⠋\u001b[0m Initializing ZenML repository at /content.\n",
            "\u001b[1;35mSetting the repo active workspace to 'default'.\u001b[0m\n",
            "\u001b[33mSetting the repo active stack to default.\u001b[0m\n",
            "\r\u001b[2K\u001b[1A\u001b[2K\u001b[2;36mZenML repository initialized at \u001b[0m\u001b[2;35m/\u001b[0m\u001b[2;95mcontent.\u001b[0m\n",
            "\u001b[2;32m⠋\u001b[0m\u001b[2;36m Initializing ZenML repository at /content.\u001b[0m\n",
            "\r\u001b[2K\u001b[1A\u001b[2K\u001b[32m⠋\u001b[0m Initializing ZenML repository at /content.\n",
            "\n",
            "\u001b[?25h\r\u001b[1A\u001b[2K\u001b[1A\u001b[2K\u001b[2;36mThe local active stack was initialized to \u001b[0m\u001b[2;32m'default'\u001b[0m\u001b[2;36m. This local configuration will only take effect \u001b[0m\n",
            "\u001b[2;36mwhen you're running ZenML from the initialized repository root, or from a subdirectory. For more \u001b[0m\n",
            "\u001b[2;36minformation on repositories and configurations, please visit \u001b[0m\n",
            "\u001b[2;4;94mhttps://docs.zenml.io/user-guide/production-guide/understand-stacks.\u001b[0m\n"
          ]
        }
      ]
    },
    {
      "cell_type": "code",
      "source": [
        "# Scikit-Learn SVC classifier to clasiffy Images of handwritten digits, We first load the data, trauin a model on the training data set and then test it on the test set.\n",
        "import numpy as np\n",
        "from sklearn.base import ClassifierMixin\n",
        "from sklearn.svm import SVC\n",
        "from sklearn.datasets import load_digits\n",
        "from sklearn.model_selection import train_test_split\n",
        "\n",
        "\n",
        "\n",
        "def train_test() -> None:\n",
        "#Train and test a Scikit-learn SVC classifier on digits\n",
        "  digits = load_digits()\n",
        "  data = digits.images.reshape((len(digits.images), -1))\n",
        "  X_train, X_test, y_train, y_test = train_test_split(\n",
        "  data, digits.target, test_size=0.2, shuffle=False)\n",
        "\n",
        "  model = SVC(gamma=0.001)\n",
        "  model.fit(X_train, y_train)\n",
        "  test_acc = model.score(X_test, y_test)\n",
        "  print(f\"Test accuracy: {test_acc}\")\n",
        "\n",
        "train_test()"
      ],
      "metadata": {
        "colab": {
          "base_uri": "https://localhost:8080/"
        },
        "id": "qzZNBcSEEdXP",
        "outputId": "9cd6840e-6540-498f-c236-df6774d744b4"
      },
      "execution_count": 4,
      "outputs": [
        {
          "output_type": "stream",
          "name": "stderr",
          "text": [
            "INFO:numexpr.utils:NumExpr defaulting to 2 threads.\n"
          ]
        },
        {
          "output_type": "stream",
          "name": "stdout",
          "text": [
            "\u001b[1;35mNumExpr defaulting to 2 threads.\u001b[0m\n",
            "Test accuracy: 0.9583333333333334\n"
          ]
        }
      ]
    },
    {
      "cell_type": "code",
      "source": [
        "#turning experiments to pipelines with ZenML\n",
        "from zenml import step\n",
        "from typing_extensions import Annotated\n",
        "import pandas as pd\n",
        "from typing import Tuple\n",
        "\n",
        "@step\n",
        "def importer() -> Tuple[\n",
        "  Annotated[np.ndarray, \"X_train\" ],\n",
        "  Annotated[np.ndarray, \"X_test\"],\n",
        "  Annotated[np.ndarray, \"y_train\"],\n",
        "  Annotated[np.ndarray, \"y_test\"],\n",
        "  ]:\n",
        "  #Load the digits dataset as numpy arrays.\n",
        "  digits = load_digits()\n",
        "  data = digits.images.reshape((len(digits.images), -1))\n",
        "  X_train, X_test, y_train, y_test = train_test_split(\n",
        "  data, digits.target, test_size=0.2, shuffle=False)\n",
        "\n",
        "  return X_train, X_test, y_train, y_test\n",
        "\n",
        "@step\n",
        "def svc_trainer(\n",
        "  X_train: np.ndarray,\n",
        "  y_train: np.ndarray,\n",
        ") -> ClassifierMixin:\n",
        "#Train an sklearn SVC classifier.\n",
        "  model = SVC(gamma=0.001)\n",
        "  model.fit(X_train, y_train)\n",
        "  return model\n",
        "@step\n",
        "def evaluator(\n",
        "  X_test: np.ndarray,\n",
        "  y_test: np.ndarray,\n",
        "  model: ClassifierMixin,\n",
        ")->float:\n",
        "#Calculate the test set accuracy of an sklearn model.\n",
        "  test_acc = model.score(X_test, y_test)\n",
        "  print(f\"Test accuracy: {test_acc}\")\n",
        "  return test_acc"
      ],
      "metadata": {
        "id": "wMvb4tYAGCaV"
      },
      "execution_count": 5,
      "outputs": []
    },
    {
      "cell_type": "code",
      "source": [
        "from zenml import pipeline\n",
        "\n",
        "@pipeline\n",
        "def digits_pipeline():\n",
        "#Links all the steps together in a pipeline\"\"\"\n",
        "  X_train, X_test, y_train, y_test = importer( )\n",
        "  model = svc_trainer (X_train=X_train, y_train=y_train)\n",
        "  evaluator (X_test=X_test, y_test=y_test, model=model)"
      ],
      "metadata": {
        "id": "m4_sUtEeGcVN"
      },
      "execution_count": 6,
      "outputs": []
    },
    {
      "cell_type": "code",
      "source": [
        "digits_svc_pipeline = digits_pipeline()\n",
        "# digits_svc_pipeline.run(unlisted=True)\n",
        "\n"
      ],
      "metadata": {
        "colab": {
          "base_uri": "https://localhost:8080/"
        },
        "id": "l-9_wQh4JMf8",
        "outputId": "6aa3260f-7ae5-4723-8fc1-a258a9c23e1d"
      },
      "execution_count": 7,
      "outputs": [
        {
          "output_type": "stream",
          "name": "stdout",
          "text": [
            "\u001b[1;35mInitiating a new run for the pipeline: \u001b[0m\u001b[1;36mdigits_pipeline\u001b[1;35m.\u001b[0m\n",
            "\u001b[1;35mUsing user: \u001b[0m\u001b[1;36mdefault\u001b[1;35m\u001b[0m\n",
            "\u001b[1;35mUsing stack: \u001b[0m\u001b[1;36mdefault\u001b[1;35m\u001b[0m\n",
            "\u001b[1;35m  artifact_store: \u001b[0m\u001b[1;36mdefault\u001b[1;35m\u001b[0m\n",
            "\u001b[1;35m  orchestrator: \u001b[0m\u001b[1;36mdefault\u001b[1;35m\u001b[0m\n",
            "\u001b[1;35mDashboard URL for Pipeline Run: \u001b[0m\u001b[34mhttp://127.0.0.1:8237/runs/efd57306-fe26-4f16-83db-58a4cc644a59\u001b[1;35m\u001b[0m\n",
            "\u001b[1;35mUsing cached version of step \u001b[0m\u001b[1;36mimporter\u001b[1;35m.\u001b[0m\n",
            "\u001b[1;35mUsing cached version of step \u001b[0m\u001b[1;36msvc_trainer\u001b[1;35m.\u001b[0m\n",
            "\u001b[1;35mUsing cached version of step \u001b[0m\u001b[1;36mevaluator\u001b[1;35m.\u001b[0m\n",
            "\u001b[1;35mAll steps of the pipeline run were cached.\u001b[0m\n"
          ]
        }
      ]
    },
    {
      "cell_type": "code",
      "source": [
        "# Install dependencies\n",
        "!pip install zenml pyngrok\n",
        "\n",
        "# Import necessary libraries\n",
        "from pyngrok import ngrok\n",
        "\n",
        "# Set your Ngrok authentication token\n",
        "NGROK_AUTH_TOKEN = \"your token here\"  # Replace with your actual token\n",
        "!ngrok authtoken $NGROK_AUTH_TOKEN\n",
        "\n",
        "# Start Ngrok tunnel on port 8237\n",
        "port = 8237  # Adjust if needed\n",
        "public_url = ngrok.connect(port).public_url\n",
        "print(f\"Ngrok Tunnel URL: {public_url}\")\n",
        "\n",
        "# Start ZenML server\n",
        "!zenml up --port=8237\n"
      ],
      "metadata": {
        "colab": {
          "base_uri": "https://localhost:8080/"
        },
        "id": "Tkee0WhdJXAN",
        "outputId": "cc507725-505d-4cd0-ed14-c83f0e1fab7d"
      },
      "execution_count": 8,
      "outputs": [
        {
          "output_type": "stream",
          "name": "stdout",
          "text": [
            "Requirement already satisfied: zenml in /usr/local/lib/python3.11/dist-packages (0.75.0)\n",
            "Requirement already satisfied: pyngrok in /usr/local/lib/python3.11/dist-packages (7.2.3)\n",
            "Requirement already satisfied: alembic<1.9.0,>=1.8.1 in /usr/local/lib/python3.11/dist-packages (from zenml) (1.8.1)\n",
            "Requirement already satisfied: bcrypt==4.0.1 in /usr/local/lib/python3.11/dist-packages (from zenml) (4.0.1)\n",
            "Requirement already satisfied: click<8.1.4,>=8.0.1 in /usr/local/lib/python3.11/dist-packages (from zenml) (8.1.3)\n",
            "Requirement already satisfied: cloudpickle<3,>=2.0.0 in /usr/local/lib/python3.11/dist-packages (from zenml) (2.2.1)\n",
            "Requirement already satisfied: distro<2.0.0,>=1.6.0 in /usr/local/lib/python3.11/dist-packages (from zenml) (1.9.0)\n",
            "Requirement already satisfied: docker<7.2.0,>=7.1.0 in /usr/local/lib/python3.11/dist-packages (from zenml) (7.1.0)\n",
            "Requirement already satisfied: gitpython<4.0.0,>=3.1.18 in /usr/local/lib/python3.11/dist-packages (from zenml) (3.1.44)\n",
            "Requirement already satisfied: packaging>=24.1 in /usr/local/lib/python3.11/dist-packages (from zenml) (24.2)\n",
            "Requirement already satisfied: passlib<1.8.0,>=1.7.4 in /usr/local/lib/python3.11/dist-packages (from passlib[bcrypt]<1.8.0,>=1.7.4->zenml) (1.7.4)\n",
            "Requirement already satisfied: psutil>=5.0.0 in /usr/local/lib/python3.11/dist-packages (from zenml) (5.9.5)\n",
            "Requirement already satisfied: pydantic<2.9,>=2.8 in /usr/local/lib/python3.11/dist-packages (from zenml) (2.8.2)\n",
            "Requirement already satisfied: pydantic-settings in /usr/local/lib/python3.11/dist-packages (from zenml) (2.8.1)\n",
            "Requirement already satisfied: pymysql<1.2.0,>=1.1.1 in /usr/local/lib/python3.11/dist-packages (from zenml) (1.1.1)\n",
            "Requirement already satisfied: python-dateutil<3.0.0,>=2.8.1 in /usr/local/lib/python3.11/dist-packages (from zenml) (2.8.2)\n",
            "Requirement already satisfied: pyyaml>=6.0.1 in /usr/local/lib/python3.11/dist-packages (from zenml) (6.0.2)\n",
            "Requirement already satisfied: rich>=12.0.0 in /usr/local/lib/python3.11/dist-packages (from rich[jupyter]>=12.0.0->zenml) (13.9.4)\n",
            "Requirement already satisfied: setuptools in /usr/local/lib/python3.11/dist-packages (from zenml) (75.1.0)\n",
            "Requirement already satisfied: sqlalchemy<3.0.0,>=2.0.0 in /usr/local/lib/python3.11/dist-packages (from zenml) (2.0.39)\n",
            "Requirement already satisfied: sqlalchemy_utils in /usr/local/lib/python3.11/dist-packages (from zenml) (0.41.2)\n",
            "Requirement already satisfied: sqlmodel==0.0.18 in /usr/local/lib/python3.11/dist-packages (from zenml) (0.0.18)\n",
            "Requirement already satisfied: Mako in /usr/local/lib/python3.11/dist-packages (from alembic<1.9.0,>=1.8.1->zenml) (1.3.9)\n",
            "Requirement already satisfied: requests>=2.26.0 in /usr/local/lib/python3.11/dist-packages (from docker<7.2.0,>=7.1.0->zenml) (2.32.3)\n",
            "Requirement already satisfied: urllib3>=1.26.0 in /usr/local/lib/python3.11/dist-packages (from docker<7.2.0,>=7.1.0->zenml) (2.3.0)\n",
            "Requirement already satisfied: gitdb<5,>=4.0.1 in /usr/local/lib/python3.11/dist-packages (from gitpython<4.0.0,>=3.1.18->zenml) (4.0.12)\n",
            "Requirement already satisfied: annotated-types>=0.4.0 in /usr/local/lib/python3.11/dist-packages (from pydantic<2.9,>=2.8->zenml) (0.7.0)\n",
            "Requirement already satisfied: pydantic-core==2.20.1 in /usr/local/lib/python3.11/dist-packages (from pydantic<2.9,>=2.8->zenml) (2.20.1)\n",
            "Requirement already satisfied: typing-extensions>=4.6.1 in /usr/local/lib/python3.11/dist-packages (from pydantic<2.9,>=2.8->zenml) (4.12.2)\n",
            "Requirement already satisfied: six>=1.5 in /usr/local/lib/python3.11/dist-packages (from python-dateutil<3.0.0,>=2.8.1->zenml) (1.17.0)\n",
            "Requirement already satisfied: markdown-it-py>=2.2.0 in /usr/local/lib/python3.11/dist-packages (from rich>=12.0.0->rich[jupyter]>=12.0.0->zenml) (3.0.0)\n",
            "Requirement already satisfied: pygments<3.0.0,>=2.13.0 in /usr/local/lib/python3.11/dist-packages (from rich>=12.0.0->rich[jupyter]>=12.0.0->zenml) (2.18.0)\n",
            "Requirement already satisfied: ipywidgets<9,>=7.5.1 in /usr/local/lib/python3.11/dist-packages (from rich[jupyter]>=12.0.0->zenml) (7.7.1)\n",
            "Requirement already satisfied: greenlet!=0.4.17 in /usr/local/lib/python3.11/dist-packages (from sqlalchemy<3.0.0,>=2.0.0->zenml) (3.1.1)\n",
            "Requirement already satisfied: python-dotenv>=0.21.0 in /usr/local/lib/python3.11/dist-packages (from pydantic-settings->zenml) (1.0.1)\n",
            "Requirement already satisfied: smmap<6,>=3.0.1 in /usr/local/lib/python3.11/dist-packages (from gitdb<5,>=4.0.1->gitpython<4.0.0,>=3.1.18->zenml) (5.0.2)\n",
            "Requirement already satisfied: ipykernel>=4.5.1 in /usr/local/lib/python3.11/dist-packages (from ipywidgets<9,>=7.5.1->rich[jupyter]>=12.0.0->zenml) (6.17.1)\n",
            "Requirement already satisfied: ipython-genutils~=0.2.0 in /usr/local/lib/python3.11/dist-packages (from ipywidgets<9,>=7.5.1->rich[jupyter]>=12.0.0->zenml) (0.2.0)\n",
            "Requirement already satisfied: traitlets>=4.3.1 in /usr/local/lib/python3.11/dist-packages (from ipywidgets<9,>=7.5.1->rich[jupyter]>=12.0.0->zenml) (5.7.1)\n",
            "Requirement already satisfied: widgetsnbextension~=3.6.0 in /usr/local/lib/python3.11/dist-packages (from ipywidgets<9,>=7.5.1->rich[jupyter]>=12.0.0->zenml) (3.6.10)\n",
            "Requirement already satisfied: ipython>=4.0.0 in /usr/local/lib/python3.11/dist-packages (from ipywidgets<9,>=7.5.1->rich[jupyter]>=12.0.0->zenml) (7.34.0)\n",
            "Requirement already satisfied: jupyterlab-widgets>=1.0.0 in /usr/local/lib/python3.11/dist-packages (from ipywidgets<9,>=7.5.1->rich[jupyter]>=12.0.0->zenml) (3.0.13)\n",
            "Requirement already satisfied: mdurl~=0.1 in /usr/local/lib/python3.11/dist-packages (from markdown-it-py>=2.2.0->rich>=12.0.0->rich[jupyter]>=12.0.0->zenml) (0.1.2)\n",
            "Requirement already satisfied: charset-normalizer<4,>=2 in /usr/local/lib/python3.11/dist-packages (from requests>=2.26.0->docker<7.2.0,>=7.1.0->zenml) (3.4.1)\n",
            "Requirement already satisfied: idna<4,>=2.5 in /usr/local/lib/python3.11/dist-packages (from requests>=2.26.0->docker<7.2.0,>=7.1.0->zenml) (3.10)\n",
            "Requirement already satisfied: certifi>=2017.4.17 in /usr/local/lib/python3.11/dist-packages (from requests>=2.26.0->docker<7.2.0,>=7.1.0->zenml) (2025.1.31)\n",
            "Requirement already satisfied: MarkupSafe>=0.9.2 in /usr/local/lib/python3.11/dist-packages (from Mako->alembic<1.9.0,>=1.8.1->zenml) (3.0.2)\n",
            "Requirement already satisfied: debugpy>=1.0 in /usr/local/lib/python3.11/dist-packages (from ipykernel>=4.5.1->ipywidgets<9,>=7.5.1->rich[jupyter]>=12.0.0->zenml) (1.8.0)\n",
            "Requirement already satisfied: jupyter-client>=6.1.12 in /usr/local/lib/python3.11/dist-packages (from ipykernel>=4.5.1->ipywidgets<9,>=7.5.1->rich[jupyter]>=12.0.0->zenml) (6.1.12)\n",
            "Requirement already satisfied: matplotlib-inline>=0.1 in /usr/local/lib/python3.11/dist-packages (from ipykernel>=4.5.1->ipywidgets<9,>=7.5.1->rich[jupyter]>=12.0.0->zenml) (0.1.7)\n",
            "Requirement already satisfied: nest-asyncio in /usr/local/lib/python3.11/dist-packages (from ipykernel>=4.5.1->ipywidgets<9,>=7.5.1->rich[jupyter]>=12.0.0->zenml) (1.6.0)\n",
            "Requirement already satisfied: pyzmq>=17 in /usr/local/lib/python3.11/dist-packages (from ipykernel>=4.5.1->ipywidgets<9,>=7.5.1->rich[jupyter]>=12.0.0->zenml) (24.0.1)\n",
            "Requirement already satisfied: tornado>=6.1 in /usr/local/lib/python3.11/dist-packages (from ipykernel>=4.5.1->ipywidgets<9,>=7.5.1->rich[jupyter]>=12.0.0->zenml) (6.4.2)\n",
            "Requirement already satisfied: jedi>=0.16 in /usr/local/lib/python3.11/dist-packages (from ipython>=4.0.0->ipywidgets<9,>=7.5.1->rich[jupyter]>=12.0.0->zenml) (0.19.2)\n",
            "Requirement already satisfied: decorator in /usr/local/lib/python3.11/dist-packages (from ipython>=4.0.0->ipywidgets<9,>=7.5.1->rich[jupyter]>=12.0.0->zenml) (4.4.2)\n",
            "Requirement already satisfied: pickleshare in /usr/local/lib/python3.11/dist-packages (from ipython>=4.0.0->ipywidgets<9,>=7.5.1->rich[jupyter]>=12.0.0->zenml) (0.7.5)\n",
            "Requirement already satisfied: prompt-toolkit!=3.0.0,!=3.0.1,<3.1.0,>=2.0.0 in /usr/local/lib/python3.11/dist-packages (from ipython>=4.0.0->ipywidgets<9,>=7.5.1->rich[jupyter]>=12.0.0->zenml) (3.0.50)\n",
            "Requirement already satisfied: backcall in /usr/local/lib/python3.11/dist-packages (from ipython>=4.0.0->ipywidgets<9,>=7.5.1->rich[jupyter]>=12.0.0->zenml) (0.2.0)\n",
            "Requirement already satisfied: pexpect>4.3 in /usr/local/lib/python3.11/dist-packages (from ipython>=4.0.0->ipywidgets<9,>=7.5.1->rich[jupyter]>=12.0.0->zenml) (4.9.0)\n",
            "Requirement already satisfied: notebook>=4.4.1 in /usr/local/lib/python3.11/dist-packages (from widgetsnbextension~=3.6.0->ipywidgets<9,>=7.5.1->rich[jupyter]>=12.0.0->zenml) (6.5.5)\n",
            "Requirement already satisfied: parso<0.9.0,>=0.8.4 in /usr/local/lib/python3.11/dist-packages (from jedi>=0.16->ipython>=4.0.0->ipywidgets<9,>=7.5.1->rich[jupyter]>=12.0.0->zenml) (0.8.4)\n",
            "Requirement already satisfied: jupyter-core>=4.6.0 in /usr/local/lib/python3.11/dist-packages (from jupyter-client>=6.1.12->ipykernel>=4.5.1->ipywidgets<9,>=7.5.1->rich[jupyter]>=12.0.0->zenml) (5.7.2)\n",
            "Requirement already satisfied: jinja2 in /usr/local/lib/python3.11/dist-packages (from notebook>=4.4.1->widgetsnbextension~=3.6.0->ipywidgets<9,>=7.5.1->rich[jupyter]>=12.0.0->zenml) (3.1.6)\n",
            "Requirement already satisfied: argon2-cffi in /usr/local/lib/python3.11/dist-packages (from notebook>=4.4.1->widgetsnbextension~=3.6.0->ipywidgets<9,>=7.5.1->rich[jupyter]>=12.0.0->zenml) (23.1.0)\n",
            "Requirement already satisfied: nbformat in /usr/local/lib/python3.11/dist-packages (from notebook>=4.4.1->widgetsnbextension~=3.6.0->ipywidgets<9,>=7.5.1->rich[jupyter]>=12.0.0->zenml) (5.10.4)\n",
            "Requirement already satisfied: nbconvert>=5 in /usr/local/lib/python3.11/dist-packages (from notebook>=4.4.1->widgetsnbextension~=3.6.0->ipywidgets<9,>=7.5.1->rich[jupyter]>=12.0.0->zenml) (7.16.6)\n",
            "Requirement already satisfied: Send2Trash>=1.8.0 in /usr/local/lib/python3.11/dist-packages (from notebook>=4.4.1->widgetsnbextension~=3.6.0->ipywidgets<9,>=7.5.1->rich[jupyter]>=12.0.0->zenml) (1.8.3)\n",
            "Requirement already satisfied: terminado>=0.8.3 in /usr/local/lib/python3.11/dist-packages (from notebook>=4.4.1->widgetsnbextension~=3.6.0->ipywidgets<9,>=7.5.1->rich[jupyter]>=12.0.0->zenml) (0.18.1)\n",
            "Requirement already satisfied: prometheus-client in /usr/local/lib/python3.11/dist-packages (from notebook>=4.4.1->widgetsnbextension~=3.6.0->ipywidgets<9,>=7.5.1->rich[jupyter]>=12.0.0->zenml) (0.21.1)\n",
            "Requirement already satisfied: nbclassic>=0.4.7 in /usr/local/lib/python3.11/dist-packages (from notebook>=4.4.1->widgetsnbextension~=3.6.0->ipywidgets<9,>=7.5.1->rich[jupyter]>=12.0.0->zenml) (1.2.0)\n",
            "Requirement already satisfied: ptyprocess>=0.5 in /usr/local/lib/python3.11/dist-packages (from pexpect>4.3->ipython>=4.0.0->ipywidgets<9,>=7.5.1->rich[jupyter]>=12.0.0->zenml) (0.7.0)\n",
            "Requirement already satisfied: wcwidth in /usr/local/lib/python3.11/dist-packages (from prompt-toolkit!=3.0.0,!=3.0.1,<3.1.0,>=2.0.0->ipython>=4.0.0->ipywidgets<9,>=7.5.1->rich[jupyter]>=12.0.0->zenml) (0.2.13)\n",
            "Requirement already satisfied: platformdirs>=2.5 in /usr/local/lib/python3.11/dist-packages (from jupyter-core>=4.6.0->jupyter-client>=6.1.12->ipykernel>=4.5.1->ipywidgets<9,>=7.5.1->rich[jupyter]>=12.0.0->zenml) (4.3.6)\n",
            "Requirement already satisfied: notebook-shim>=0.2.3 in /usr/local/lib/python3.11/dist-packages (from nbclassic>=0.4.7->notebook>=4.4.1->widgetsnbextension~=3.6.0->ipywidgets<9,>=7.5.1->rich[jupyter]>=12.0.0->zenml) (0.2.4)\n",
            "Requirement already satisfied: beautifulsoup4 in /usr/local/lib/python3.11/dist-packages (from nbconvert>=5->notebook>=4.4.1->widgetsnbextension~=3.6.0->ipywidgets<9,>=7.5.1->rich[jupyter]>=12.0.0->zenml) (4.13.3)\n",
            "Requirement already satisfied: bleach!=5.0.0 in /usr/local/lib/python3.11/dist-packages (from bleach[css]!=5.0.0->nbconvert>=5->notebook>=4.4.1->widgetsnbextension~=3.6.0->ipywidgets<9,>=7.5.1->rich[jupyter]>=12.0.0->zenml) (6.2.0)\n",
            "Requirement already satisfied: defusedxml in /usr/local/lib/python3.11/dist-packages (from nbconvert>=5->notebook>=4.4.1->widgetsnbextension~=3.6.0->ipywidgets<9,>=7.5.1->rich[jupyter]>=12.0.0->zenml) (0.7.1)\n",
            "Requirement already satisfied: jupyterlab-pygments in /usr/local/lib/python3.11/dist-packages (from nbconvert>=5->notebook>=4.4.1->widgetsnbextension~=3.6.0->ipywidgets<9,>=7.5.1->rich[jupyter]>=12.0.0->zenml) (0.3.0)\n",
            "Requirement already satisfied: mistune<4,>=2.0.3 in /usr/local/lib/python3.11/dist-packages (from nbconvert>=5->notebook>=4.4.1->widgetsnbextension~=3.6.0->ipywidgets<9,>=7.5.1->rich[jupyter]>=12.0.0->zenml) (3.1.2)\n",
            "Requirement already satisfied: nbclient>=0.5.0 in /usr/local/lib/python3.11/dist-packages (from nbconvert>=5->notebook>=4.4.1->widgetsnbextension~=3.6.0->ipywidgets<9,>=7.5.1->rich[jupyter]>=12.0.0->zenml) (0.10.2)\n",
            "Requirement already satisfied: pandocfilters>=1.4.1 in /usr/local/lib/python3.11/dist-packages (from nbconvert>=5->notebook>=4.4.1->widgetsnbextension~=3.6.0->ipywidgets<9,>=7.5.1->rich[jupyter]>=12.0.0->zenml) (1.5.1)\n",
            "Requirement already satisfied: fastjsonschema>=2.15 in /usr/local/lib/python3.11/dist-packages (from nbformat->notebook>=4.4.1->widgetsnbextension~=3.6.0->ipywidgets<9,>=7.5.1->rich[jupyter]>=12.0.0->zenml) (2.21.1)\n",
            "Requirement already satisfied: jsonschema>=2.6 in /usr/local/lib/python3.11/dist-packages (from nbformat->notebook>=4.4.1->widgetsnbextension~=3.6.0->ipywidgets<9,>=7.5.1->rich[jupyter]>=12.0.0->zenml) (4.23.0)\n",
            "Requirement already satisfied: argon2-cffi-bindings in /usr/local/lib/python3.11/dist-packages (from argon2-cffi->notebook>=4.4.1->widgetsnbextension~=3.6.0->ipywidgets<9,>=7.5.1->rich[jupyter]>=12.0.0->zenml) (21.2.0)\n",
            "Requirement already satisfied: webencodings in /usr/local/lib/python3.11/dist-packages (from bleach!=5.0.0->bleach[css]!=5.0.0->nbconvert>=5->notebook>=4.4.1->widgetsnbextension~=3.6.0->ipywidgets<9,>=7.5.1->rich[jupyter]>=12.0.0->zenml) (0.5.1)\n",
            "Requirement already satisfied: tinycss2<1.5,>=1.1.0 in /usr/local/lib/python3.11/dist-packages (from bleach[css]!=5.0.0->nbconvert>=5->notebook>=4.4.1->widgetsnbextension~=3.6.0->ipywidgets<9,>=7.5.1->rich[jupyter]>=12.0.0->zenml) (1.4.0)\n",
            "Requirement already satisfied: attrs>=22.2.0 in /usr/local/lib/python3.11/dist-packages (from jsonschema>=2.6->nbformat->notebook>=4.4.1->widgetsnbextension~=3.6.0->ipywidgets<9,>=7.5.1->rich[jupyter]>=12.0.0->zenml) (25.2.0)\n",
            "Requirement already satisfied: jsonschema-specifications>=2023.03.6 in /usr/local/lib/python3.11/dist-packages (from jsonschema>=2.6->nbformat->notebook>=4.4.1->widgetsnbextension~=3.6.0->ipywidgets<9,>=7.5.1->rich[jupyter]>=12.0.0->zenml) (2024.10.1)\n",
            "Requirement already satisfied: referencing>=0.28.4 in /usr/local/lib/python3.11/dist-packages (from jsonschema>=2.6->nbformat->notebook>=4.4.1->widgetsnbextension~=3.6.0->ipywidgets<9,>=7.5.1->rich[jupyter]>=12.0.0->zenml) (0.36.2)\n",
            "Requirement already satisfied: rpds-py>=0.7.1 in /usr/local/lib/python3.11/dist-packages (from jsonschema>=2.6->nbformat->notebook>=4.4.1->widgetsnbextension~=3.6.0->ipywidgets<9,>=7.5.1->rich[jupyter]>=12.0.0->zenml) (0.23.1)\n",
            "Requirement already satisfied: jupyter-server<3,>=1.8 in /usr/local/lib/python3.11/dist-packages (from notebook-shim>=0.2.3->nbclassic>=0.4.7->notebook>=4.4.1->widgetsnbextension~=3.6.0->ipywidgets<9,>=7.5.1->rich[jupyter]>=12.0.0->zenml) (1.24.0)\n",
            "Requirement already satisfied: cffi>=1.0.1 in /usr/local/lib/python3.11/dist-packages (from argon2-cffi-bindings->argon2-cffi->notebook>=4.4.1->widgetsnbextension~=3.6.0->ipywidgets<9,>=7.5.1->rich[jupyter]>=12.0.0->zenml) (1.17.1)\n",
            "Requirement already satisfied: soupsieve>1.2 in /usr/local/lib/python3.11/dist-packages (from beautifulsoup4->nbconvert>=5->notebook>=4.4.1->widgetsnbextension~=3.6.0->ipywidgets<9,>=7.5.1->rich[jupyter]>=12.0.0->zenml) (2.6)\n",
            "Requirement already satisfied: pycparser in /usr/local/lib/python3.11/dist-packages (from cffi>=1.0.1->argon2-cffi-bindings->argon2-cffi->notebook>=4.4.1->widgetsnbextension~=3.6.0->ipywidgets<9,>=7.5.1->rich[jupyter]>=12.0.0->zenml) (2.22)\n",
            "Requirement already satisfied: anyio<4,>=3.1.0 in /usr/local/lib/python3.11/dist-packages (from jupyter-server<3,>=1.8->notebook-shim>=0.2.3->nbclassic>=0.4.7->notebook>=4.4.1->widgetsnbextension~=3.6.0->ipywidgets<9,>=7.5.1->rich[jupyter]>=12.0.0->zenml) (3.7.1)\n",
            "Requirement already satisfied: websocket-client in /usr/local/lib/python3.11/dist-packages (from jupyter-server<3,>=1.8->notebook-shim>=0.2.3->nbclassic>=0.4.7->notebook>=4.4.1->widgetsnbextension~=3.6.0->ipywidgets<9,>=7.5.1->rich[jupyter]>=12.0.0->zenml) (1.8.0)\n",
            "Requirement already satisfied: sniffio>=1.1 in /usr/local/lib/python3.11/dist-packages (from anyio<4,>=3.1.0->jupyter-server<3,>=1.8->notebook-shim>=0.2.3->nbclassic>=0.4.7->notebook>=4.4.1->widgetsnbextension~=3.6.0->ipywidgets<9,>=7.5.1->rich[jupyter]>=12.0.0->zenml) (1.3.1)\n",
            "Authtoken saved to configuration file: /root/.config/ngrok/ngrok.yml\n"
          ]
        },
        {
          "output_type": "stream",
          "name": "stderr",
          "text": [
            "INFO:pyngrok.ngrok:Opening tunnel named: http-8237-9c52ae88-b4eb-40b6-9a10-627a5f4b193b\n"
          ]
        },
        {
          "output_type": "stream",
          "name": "stdout",
          "text": [
            "\u001b[1;35mOpening tunnel named: http-8237-9c52ae88-b4eb-40b6-9a10-627a5f4b193b\u001b[0m\n"
          ]
        },
        {
          "output_type": "stream",
          "name": "stderr",
          "text": [
            "INFO:pyngrok.process.ngrok:t=2025-03-15T14:54:35+0000 lvl=info msg=\"no configuration paths supplied\"\n"
          ]
        },
        {
          "output_type": "stream",
          "name": "stdout",
          "text": [
            "\u001b[1;35mt=2025-03-15T14:54:35+0000 lvl=info msg=\"no configuration paths supplied\"\u001b[0m\n"
          ]
        },
        {
          "output_type": "stream",
          "name": "stderr",
          "text": [
            "INFO:pyngrok.process.ngrok:t=2025-03-15T14:54:35+0000 lvl=info msg=\"using configuration at default config path\" path=/root/.config/ngrok/ngrok.yml\n"
          ]
        },
        {
          "output_type": "stream",
          "name": "stdout",
          "text": [
            "\u001b[1;35mt=2025-03-15T14:54:35+0000 lvl=info msg=\"using configuration at default config path\" path=/root/.config/ngrok/ngrok.yml\u001b[0m\n"
          ]
        },
        {
          "output_type": "stream",
          "name": "stderr",
          "text": [
            "INFO:pyngrok.process.ngrok:t=2025-03-15T14:54:35+0000 lvl=info msg=\"open config file\" path=/root/.config/ngrok/ngrok.yml err=nil\n"
          ]
        },
        {
          "output_type": "stream",
          "name": "stdout",
          "text": [
            "\u001b[1;35mt=2025-03-15T14:54:35+0000 lvl=info msg=\"open config file\" path=/root/.config/ngrok/ngrok.yml err=nil\u001b[0m\n"
          ]
        },
        {
          "output_type": "stream",
          "name": "stderr",
          "text": [
            "INFO:pyngrok.process.ngrok:t=2025-03-15T14:54:35+0000 lvl=info msg=\"starting web service\" obj=web addr=127.0.0.1:4040 allow_hosts=[]\n"
          ]
        },
        {
          "output_type": "stream",
          "name": "stdout",
          "text": [
            "\u001b[1;35mt=2025-03-15T14:54:35+0000 lvl=info msg=\"starting web service\" obj=web addr=127.0.0.1:4040 allow_hosts=[]\u001b[0m\n"
          ]
        },
        {
          "output_type": "stream",
          "name": "stderr",
          "text": [
            "INFO:pyngrok.process.ngrok:t=2025-03-15T14:54:35+0000 lvl=info msg=\"client session established\" obj=tunnels.session\n"
          ]
        },
        {
          "output_type": "stream",
          "name": "stdout",
          "text": [
            "\u001b[1;35mt=2025-03-15T14:54:35+0000 lvl=info msg=\"client session established\" obj=tunnels.session\u001b[0m\n"
          ]
        },
        {
          "output_type": "stream",
          "name": "stderr",
          "text": [
            "INFO:pyngrok.process.ngrok:t=2025-03-15T14:54:35+0000 lvl=info msg=\"tunnel session started\" obj=tunnels.session\n"
          ]
        },
        {
          "output_type": "stream",
          "name": "stdout",
          "text": [
            "\u001b[1;35mt=2025-03-15T14:54:35+0000 lvl=info msg=\"tunnel session started\" obj=tunnels.session\u001b[0m\n"
          ]
        },
        {
          "output_type": "stream",
          "name": "stderr",
          "text": [
            "INFO:pyngrok.process.ngrok:t=2025-03-15T14:54:35+0000 lvl=info msg=start pg=/api/tunnels id=68a512089b99c1e3\n"
          ]
        },
        {
          "output_type": "stream",
          "name": "stdout",
          "text": [
            "\u001b[1;35mt=2025-03-15T14:54:35+0000 lvl=info msg=start pg=/api/tunnels id=68a512089b99c1e3\u001b[0m\n"
          ]
        },
        {
          "output_type": "stream",
          "name": "stderr",
          "text": [
            "INFO:pyngrok.process.ngrok:t=2025-03-15T14:54:35+0000 lvl=info msg=end pg=/api/tunnels id=68a512089b99c1e3 status=200 dur=557.12µs\n"
          ]
        },
        {
          "output_type": "stream",
          "name": "stdout",
          "text": [
            "\u001b[1;35mt=2025-03-15T14:54:35+0000 lvl=info msg=end pg=/api/tunnels id=68a512089b99c1e3 status=200 dur=557.12µs\u001b[0m\n"
          ]
        },
        {
          "output_type": "stream",
          "name": "stderr",
          "text": [
            "INFO:pyngrok.process.ngrok:t=2025-03-15T14:54:35+0000 lvl=info msg=start pg=/api/tunnels id=a41a9a9a963891be\n"
          ]
        },
        {
          "output_type": "stream",
          "name": "stdout",
          "text": [
            "\u001b[1;35mt=2025-03-15T14:54:35+0000 lvl=info msg=start pg=/api/tunnels id=a41a9a9a963891be\u001b[0m\n"
          ]
        },
        {
          "output_type": "stream",
          "name": "stderr",
          "text": [
            "INFO:pyngrok.process.ngrok:t=2025-03-15T14:54:35+0000 lvl=info msg=end pg=/api/tunnels id=a41a9a9a963891be status=200 dur=144.282µs\n"
          ]
        },
        {
          "output_type": "stream",
          "name": "stdout",
          "text": [
            "\u001b[1;35mt=2025-03-15T14:54:35+0000 lvl=info msg=end pg=/api/tunnels id=a41a9a9a963891be status=200 dur=144.282µs\u001b[0m\n"
          ]
        },
        {
          "output_type": "stream",
          "name": "stderr",
          "text": [
            "INFO:pyngrok.process.ngrok:t=2025-03-15T14:54:35+0000 lvl=info msg=start pg=/api/tunnels id=e11f293e5ca98f14\n"
          ]
        },
        {
          "output_type": "stream",
          "name": "stdout",
          "text": [
            "\u001b[1;35mt=2025-03-15T14:54:35+0000 lvl=info msg=start pg=/api/tunnels id=e11f293e5ca98f14\u001b[0m\n"
          ]
        },
        {
          "output_type": "stream",
          "name": "stderr",
          "text": [
            "INFO:pyngrok.process.ngrok:t=2025-03-15T14:54:35+0000 lvl=info msg=\"started tunnel\" obj=tunnels name=http-8237-9c52ae88-b4eb-40b6-9a10-627a5f4b193b addr=http://localhost:8237 url=https://ff27-34-145-21-243.ngrok-free.app\n"
          ]
        },
        {
          "output_type": "stream",
          "name": "stdout",
          "text": [
            "Ngrok Tunnel URL: https://ff27-34-145-21-243.ngrok-free.app\n",
            "\u001b[1;35mt=2025-03-15T14:54:35+0000 lvl=info msg=\"started tunnel\" obj=tunnels name=http-8237-9c52ae88-b4eb-40b6-9a10-627a5f4b193b addr=\u001b[0m\u001b[34mhttp://localhost:8237\u001b[1;35m url=\u001b[0m\u001b[34mhttps://ff27-34-145-21-243.ngrok-free.app\u001b[1;35m\u001b[0m\n"
          ]
        },
        {
          "output_type": "stream",
          "name": "stderr",
          "text": [
            "INFO:pyngrok.process.ngrok:t=2025-03-15T14:54:35+0000 lvl=info msg=end pg=/api/tunnels id=e11f293e5ca98f14 status=201 dur=67.800464ms\n"
          ]
        },
        {
          "output_type": "stream",
          "name": "stdout",
          "text": [
            "\u001b[1;35mt=2025-03-15T14:54:35+0000 lvl=info msg=end pg=/api/tunnels id=e11f293e5ca98f14 status=201 dur=67.800464ms\u001b[0m\n",
            "\u001b[33mThe `zenml up` command is deprecated and will be removed in a future release. Please use the `zenml \u001b[0m\n",
            "\u001b[33mlogin --local` command instead.\u001b[0m\n",
            "\u001b[2;36mCalling `zenml login --local`\u001b[0m\u001b[2;33m...\u001b[0m\n",
            "\u001b[1;35mThe local daemon ZenML server is already configured with the same parameters.\u001b[0m\n",
            "\u001b[?25l\u001b[32m⠋\u001b[0m Starting service 'DaemonZenServer[02d4a002-b4dc-41fd-acb1-d5532176b1b0] (type: zen_server, flavor:\n",
            "daemon)'.\n",
            "\n",
            "\u001b[1A\u001b[2K\u001b[1A\u001b[2K\u001b[1A\u001b[2K\u001b[1;35mConnecting to the local daemon ZenML server (\u001b[0m\u001b[34mhttp://127.0.0.1:8237).\u001b[1;35m\u001b[0m\n",
            "\u001b[1;35mUpdated the global store configuration.\u001b[0m\n",
            "\u001b[1;35mConnected to the local daemon ZenML server (\u001b[0m\u001b[34mhttp://127.0.0.1:8237).\u001b[1;35m\u001b[0m\n",
            "\u001b[2;36mThe local ZenML dashboard is available at \u001b[0m\u001b[2;32m'http://127.0.0.1:8237'\u001b[0m\u001b[2;36m.\u001b[0m\n",
            "<IPython.lib.display.IFrame object at 0x7ac34ee02cd0>\n"
          ]
        }
      ]
    },
    {
      "cell_type": "code",
      "source": [
        "\n",
        "# Install dependencies\n",
        "!pip install zenml pyngrok\n",
        "\n",
        "# Import necessary libraries\n",
        "from pyngrok import ngrok\n",
        "\n",
        "# Set your Ngrok authentication token\n",
        "NGROK_AUTH_TOKEN = \"your token here\"  # Replace with your actual token\n",
        "!ngrok authtoken $NGROK_AUTH_TOKEN\n",
        "\n",
        "# Start Ngrok tunnel on port 8237\n",
        "port = 8237  # Adjust if needed\n",
        "public_url = ngrok.connect(port).public_url\n",
        "print(f\"Ngrok Tunnel URL: {public_url}\")\n",
        "\n",
        "# Use ZenML to login in local mode\n",
        "!zenml login --local\n"
      ],
      "metadata": {
        "colab": {
          "base_uri": "https://localhost:8080/"
        },
        "id": "3UMD4z9_La_Z",
        "outputId": "a8187c08-40b7-4b2e-d68a-3062a2565e66"
      },
      "execution_count": 9,
      "outputs": [
        {
          "output_type": "stream",
          "name": "stdout",
          "text": [
            "Requirement already satisfied: zenml in /usr/local/lib/python3.11/dist-packages (0.75.0)\n",
            "Requirement already satisfied: pyngrok in /usr/local/lib/python3.11/dist-packages (7.2.3)\n",
            "Requirement already satisfied: alembic<1.9.0,>=1.8.1 in /usr/local/lib/python3.11/dist-packages (from zenml) (1.8.1)\n",
            "Requirement already satisfied: bcrypt==4.0.1 in /usr/local/lib/python3.11/dist-packages (from zenml) (4.0.1)\n",
            "Requirement already satisfied: click<8.1.4,>=8.0.1 in /usr/local/lib/python3.11/dist-packages (from zenml) (8.1.3)\n",
            "Requirement already satisfied: cloudpickle<3,>=2.0.0 in /usr/local/lib/python3.11/dist-packages (from zenml) (2.2.1)\n",
            "Requirement already satisfied: distro<2.0.0,>=1.6.0 in /usr/local/lib/python3.11/dist-packages (from zenml) (1.9.0)\n",
            "Requirement already satisfied: docker<7.2.0,>=7.1.0 in /usr/local/lib/python3.11/dist-packages (from zenml) (7.1.0)\n",
            "Requirement already satisfied: gitpython<4.0.0,>=3.1.18 in /usr/local/lib/python3.11/dist-packages (from zenml) (3.1.44)\n",
            "Requirement already satisfied: packaging>=24.1 in /usr/local/lib/python3.11/dist-packages (from zenml) (24.2)\n",
            "Requirement already satisfied: passlib<1.8.0,>=1.7.4 in /usr/local/lib/python3.11/dist-packages (from passlib[bcrypt]<1.8.0,>=1.7.4->zenml) (1.7.4)\n",
            "Requirement already satisfied: psutil>=5.0.0 in /usr/local/lib/python3.11/dist-packages (from zenml) (5.9.5)\n",
            "Requirement already satisfied: pydantic<2.9,>=2.8 in /usr/local/lib/python3.11/dist-packages (from zenml) (2.8.2)\n",
            "Requirement already satisfied: pydantic-settings in /usr/local/lib/python3.11/dist-packages (from zenml) (2.8.1)\n",
            "Requirement already satisfied: pymysql<1.2.0,>=1.1.1 in /usr/local/lib/python3.11/dist-packages (from zenml) (1.1.1)\n",
            "Requirement already satisfied: python-dateutil<3.0.0,>=2.8.1 in /usr/local/lib/python3.11/dist-packages (from zenml) (2.8.2)\n",
            "Requirement already satisfied: pyyaml>=6.0.1 in /usr/local/lib/python3.11/dist-packages (from zenml) (6.0.2)\n",
            "Requirement already satisfied: rich>=12.0.0 in /usr/local/lib/python3.11/dist-packages (from rich[jupyter]>=12.0.0->zenml) (13.9.4)\n",
            "Requirement already satisfied: setuptools in /usr/local/lib/python3.11/dist-packages (from zenml) (75.1.0)\n",
            "Requirement already satisfied: sqlalchemy<3.0.0,>=2.0.0 in /usr/local/lib/python3.11/dist-packages (from zenml) (2.0.39)\n",
            "Requirement already satisfied: sqlalchemy_utils in /usr/local/lib/python3.11/dist-packages (from zenml) (0.41.2)\n",
            "Requirement already satisfied: sqlmodel==0.0.18 in /usr/local/lib/python3.11/dist-packages (from zenml) (0.0.18)\n",
            "Requirement already satisfied: Mako in /usr/local/lib/python3.11/dist-packages (from alembic<1.9.0,>=1.8.1->zenml) (1.3.9)\n",
            "Requirement already satisfied: requests>=2.26.0 in /usr/local/lib/python3.11/dist-packages (from docker<7.2.0,>=7.1.0->zenml) (2.32.3)\n",
            "Requirement already satisfied: urllib3>=1.26.0 in /usr/local/lib/python3.11/dist-packages (from docker<7.2.0,>=7.1.0->zenml) (2.3.0)\n",
            "Requirement already satisfied: gitdb<5,>=4.0.1 in /usr/local/lib/python3.11/dist-packages (from gitpython<4.0.0,>=3.1.18->zenml) (4.0.12)\n",
            "Requirement already satisfied: annotated-types>=0.4.0 in /usr/local/lib/python3.11/dist-packages (from pydantic<2.9,>=2.8->zenml) (0.7.0)\n",
            "Requirement already satisfied: pydantic-core==2.20.1 in /usr/local/lib/python3.11/dist-packages (from pydantic<2.9,>=2.8->zenml) (2.20.1)\n",
            "Requirement already satisfied: typing-extensions>=4.6.1 in /usr/local/lib/python3.11/dist-packages (from pydantic<2.9,>=2.8->zenml) (4.12.2)\n",
            "Requirement already satisfied: six>=1.5 in /usr/local/lib/python3.11/dist-packages (from python-dateutil<3.0.0,>=2.8.1->zenml) (1.17.0)\n",
            "Requirement already satisfied: markdown-it-py>=2.2.0 in /usr/local/lib/python3.11/dist-packages (from rich>=12.0.0->rich[jupyter]>=12.0.0->zenml) (3.0.0)\n",
            "Requirement already satisfied: pygments<3.0.0,>=2.13.0 in /usr/local/lib/python3.11/dist-packages (from rich>=12.0.0->rich[jupyter]>=12.0.0->zenml) (2.18.0)\n",
            "Requirement already satisfied: ipywidgets<9,>=7.5.1 in /usr/local/lib/python3.11/dist-packages (from rich[jupyter]>=12.0.0->zenml) (7.7.1)\n",
            "Requirement already satisfied: greenlet!=0.4.17 in /usr/local/lib/python3.11/dist-packages (from sqlalchemy<3.0.0,>=2.0.0->zenml) (3.1.1)\n",
            "Requirement already satisfied: python-dotenv>=0.21.0 in /usr/local/lib/python3.11/dist-packages (from pydantic-settings->zenml) (1.0.1)\n",
            "Requirement already satisfied: smmap<6,>=3.0.1 in /usr/local/lib/python3.11/dist-packages (from gitdb<5,>=4.0.1->gitpython<4.0.0,>=3.1.18->zenml) (5.0.2)\n",
            "Requirement already satisfied: ipykernel>=4.5.1 in /usr/local/lib/python3.11/dist-packages (from ipywidgets<9,>=7.5.1->rich[jupyter]>=12.0.0->zenml) (6.17.1)\n",
            "Requirement already satisfied: ipython-genutils~=0.2.0 in /usr/local/lib/python3.11/dist-packages (from ipywidgets<9,>=7.5.1->rich[jupyter]>=12.0.0->zenml) (0.2.0)\n",
            "Requirement already satisfied: traitlets>=4.3.1 in /usr/local/lib/python3.11/dist-packages (from ipywidgets<9,>=7.5.1->rich[jupyter]>=12.0.0->zenml) (5.7.1)\n",
            "Requirement already satisfied: widgetsnbextension~=3.6.0 in /usr/local/lib/python3.11/dist-packages (from ipywidgets<9,>=7.5.1->rich[jupyter]>=12.0.0->zenml) (3.6.10)\n",
            "Requirement already satisfied: ipython>=4.0.0 in /usr/local/lib/python3.11/dist-packages (from ipywidgets<9,>=7.5.1->rich[jupyter]>=12.0.0->zenml) (7.34.0)\n",
            "Requirement already satisfied: jupyterlab-widgets>=1.0.0 in /usr/local/lib/python3.11/dist-packages (from ipywidgets<9,>=7.5.1->rich[jupyter]>=12.0.0->zenml) (3.0.13)\n",
            "Requirement already satisfied: mdurl~=0.1 in /usr/local/lib/python3.11/dist-packages (from markdown-it-py>=2.2.0->rich>=12.0.0->rich[jupyter]>=12.0.0->zenml) (0.1.2)\n",
            "Requirement already satisfied: charset-normalizer<4,>=2 in /usr/local/lib/python3.11/dist-packages (from requests>=2.26.0->docker<7.2.0,>=7.1.0->zenml) (3.4.1)\n",
            "Requirement already satisfied: idna<4,>=2.5 in /usr/local/lib/python3.11/dist-packages (from requests>=2.26.0->docker<7.2.0,>=7.1.0->zenml) (3.10)\n",
            "Requirement already satisfied: certifi>=2017.4.17 in /usr/local/lib/python3.11/dist-packages (from requests>=2.26.0->docker<7.2.0,>=7.1.0->zenml) (2025.1.31)\n",
            "Requirement already satisfied: MarkupSafe>=0.9.2 in /usr/local/lib/python3.11/dist-packages (from Mako->alembic<1.9.0,>=1.8.1->zenml) (3.0.2)\n",
            "Requirement already satisfied: debugpy>=1.0 in /usr/local/lib/python3.11/dist-packages (from ipykernel>=4.5.1->ipywidgets<9,>=7.5.1->rich[jupyter]>=12.0.0->zenml) (1.8.0)\n",
            "Requirement already satisfied: jupyter-client>=6.1.12 in /usr/local/lib/python3.11/dist-packages (from ipykernel>=4.5.1->ipywidgets<9,>=7.5.1->rich[jupyter]>=12.0.0->zenml) (6.1.12)\n",
            "Requirement already satisfied: matplotlib-inline>=0.1 in /usr/local/lib/python3.11/dist-packages (from ipykernel>=4.5.1->ipywidgets<9,>=7.5.1->rich[jupyter]>=12.0.0->zenml) (0.1.7)\n",
            "Requirement already satisfied: nest-asyncio in /usr/local/lib/python3.11/dist-packages (from ipykernel>=4.5.1->ipywidgets<9,>=7.5.1->rich[jupyter]>=12.0.0->zenml) (1.6.0)\n",
            "Requirement already satisfied: pyzmq>=17 in /usr/local/lib/python3.11/dist-packages (from ipykernel>=4.5.1->ipywidgets<9,>=7.5.1->rich[jupyter]>=12.0.0->zenml) (24.0.1)\n",
            "Requirement already satisfied: tornado>=6.1 in /usr/local/lib/python3.11/dist-packages (from ipykernel>=4.5.1->ipywidgets<9,>=7.5.1->rich[jupyter]>=12.0.0->zenml) (6.4.2)\n",
            "Requirement already satisfied: jedi>=0.16 in /usr/local/lib/python3.11/dist-packages (from ipython>=4.0.0->ipywidgets<9,>=7.5.1->rich[jupyter]>=12.0.0->zenml) (0.19.2)\n",
            "Requirement already satisfied: decorator in /usr/local/lib/python3.11/dist-packages (from ipython>=4.0.0->ipywidgets<9,>=7.5.1->rich[jupyter]>=12.0.0->zenml) (4.4.2)\n",
            "Requirement already satisfied: pickleshare in /usr/local/lib/python3.11/dist-packages (from ipython>=4.0.0->ipywidgets<9,>=7.5.1->rich[jupyter]>=12.0.0->zenml) (0.7.5)\n",
            "Requirement already satisfied: prompt-toolkit!=3.0.0,!=3.0.1,<3.1.0,>=2.0.0 in /usr/local/lib/python3.11/dist-packages (from ipython>=4.0.0->ipywidgets<9,>=7.5.1->rich[jupyter]>=12.0.0->zenml) (3.0.50)\n",
            "Requirement already satisfied: backcall in /usr/local/lib/python3.11/dist-packages (from ipython>=4.0.0->ipywidgets<9,>=7.5.1->rich[jupyter]>=12.0.0->zenml) (0.2.0)\n",
            "Requirement already satisfied: pexpect>4.3 in /usr/local/lib/python3.11/dist-packages (from ipython>=4.0.0->ipywidgets<9,>=7.5.1->rich[jupyter]>=12.0.0->zenml) (4.9.0)\n",
            "Requirement already satisfied: notebook>=4.4.1 in /usr/local/lib/python3.11/dist-packages (from widgetsnbextension~=3.6.0->ipywidgets<9,>=7.5.1->rich[jupyter]>=12.0.0->zenml) (6.5.5)\n",
            "Requirement already satisfied: parso<0.9.0,>=0.8.4 in /usr/local/lib/python3.11/dist-packages (from jedi>=0.16->ipython>=4.0.0->ipywidgets<9,>=7.5.1->rich[jupyter]>=12.0.0->zenml) (0.8.4)\n",
            "Requirement already satisfied: jupyter-core>=4.6.0 in /usr/local/lib/python3.11/dist-packages (from jupyter-client>=6.1.12->ipykernel>=4.5.1->ipywidgets<9,>=7.5.1->rich[jupyter]>=12.0.0->zenml) (5.7.2)\n",
            "Requirement already satisfied: jinja2 in /usr/local/lib/python3.11/dist-packages (from notebook>=4.4.1->widgetsnbextension~=3.6.0->ipywidgets<9,>=7.5.1->rich[jupyter]>=12.0.0->zenml) (3.1.6)\n",
            "Requirement already satisfied: argon2-cffi in /usr/local/lib/python3.11/dist-packages (from notebook>=4.4.1->widgetsnbextension~=3.6.0->ipywidgets<9,>=7.5.1->rich[jupyter]>=12.0.0->zenml) (23.1.0)\n",
            "Requirement already satisfied: nbformat in /usr/local/lib/python3.11/dist-packages (from notebook>=4.4.1->widgetsnbextension~=3.6.0->ipywidgets<9,>=7.5.1->rich[jupyter]>=12.0.0->zenml) (5.10.4)\n",
            "Requirement already satisfied: nbconvert>=5 in /usr/local/lib/python3.11/dist-packages (from notebook>=4.4.1->widgetsnbextension~=3.6.0->ipywidgets<9,>=7.5.1->rich[jupyter]>=12.0.0->zenml) (7.16.6)\n",
            "Requirement already satisfied: Send2Trash>=1.8.0 in /usr/local/lib/python3.11/dist-packages (from notebook>=4.4.1->widgetsnbextension~=3.6.0->ipywidgets<9,>=7.5.1->rich[jupyter]>=12.0.0->zenml) (1.8.3)\n",
            "Requirement already satisfied: terminado>=0.8.3 in /usr/local/lib/python3.11/dist-packages (from notebook>=4.4.1->widgetsnbextension~=3.6.0->ipywidgets<9,>=7.5.1->rich[jupyter]>=12.0.0->zenml) (0.18.1)\n",
            "Requirement already satisfied: prometheus-client in /usr/local/lib/python3.11/dist-packages (from notebook>=4.4.1->widgetsnbextension~=3.6.0->ipywidgets<9,>=7.5.1->rich[jupyter]>=12.0.0->zenml) (0.21.1)\n",
            "Requirement already satisfied: nbclassic>=0.4.7 in /usr/local/lib/python3.11/dist-packages (from notebook>=4.4.1->widgetsnbextension~=3.6.0->ipywidgets<9,>=7.5.1->rich[jupyter]>=12.0.0->zenml) (1.2.0)\n",
            "Requirement already satisfied: ptyprocess>=0.5 in /usr/local/lib/python3.11/dist-packages (from pexpect>4.3->ipython>=4.0.0->ipywidgets<9,>=7.5.1->rich[jupyter]>=12.0.0->zenml) (0.7.0)\n",
            "Requirement already satisfied: wcwidth in /usr/local/lib/python3.11/dist-packages (from prompt-toolkit!=3.0.0,!=3.0.1,<3.1.0,>=2.0.0->ipython>=4.0.0->ipywidgets<9,>=7.5.1->rich[jupyter]>=12.0.0->zenml) (0.2.13)\n",
            "Requirement already satisfied: platformdirs>=2.5 in /usr/local/lib/python3.11/dist-packages (from jupyter-core>=4.6.0->jupyter-client>=6.1.12->ipykernel>=4.5.1->ipywidgets<9,>=7.5.1->rich[jupyter]>=12.0.0->zenml) (4.3.6)\n",
            "Requirement already satisfied: notebook-shim>=0.2.3 in /usr/local/lib/python3.11/dist-packages (from nbclassic>=0.4.7->notebook>=4.4.1->widgetsnbextension~=3.6.0->ipywidgets<9,>=7.5.1->rich[jupyter]>=12.0.0->zenml) (0.2.4)\n",
            "Requirement already satisfied: beautifulsoup4 in /usr/local/lib/python3.11/dist-packages (from nbconvert>=5->notebook>=4.4.1->widgetsnbextension~=3.6.0->ipywidgets<9,>=7.5.1->rich[jupyter]>=12.0.0->zenml) (4.13.3)\n",
            "Requirement already satisfied: bleach!=5.0.0 in /usr/local/lib/python3.11/dist-packages (from bleach[css]!=5.0.0->nbconvert>=5->notebook>=4.4.1->widgetsnbextension~=3.6.0->ipywidgets<9,>=7.5.1->rich[jupyter]>=12.0.0->zenml) (6.2.0)\n",
            "Requirement already satisfied: defusedxml in /usr/local/lib/python3.11/dist-packages (from nbconvert>=5->notebook>=4.4.1->widgetsnbextension~=3.6.0->ipywidgets<9,>=7.5.1->rich[jupyter]>=12.0.0->zenml) (0.7.1)\n",
            "Requirement already satisfied: jupyterlab-pygments in /usr/local/lib/python3.11/dist-packages (from nbconvert>=5->notebook>=4.4.1->widgetsnbextension~=3.6.0->ipywidgets<9,>=7.5.1->rich[jupyter]>=12.0.0->zenml) (0.3.0)\n",
            "Requirement already satisfied: mistune<4,>=2.0.3 in /usr/local/lib/python3.11/dist-packages (from nbconvert>=5->notebook>=4.4.1->widgetsnbextension~=3.6.0->ipywidgets<9,>=7.5.1->rich[jupyter]>=12.0.0->zenml) (3.1.2)\n",
            "Requirement already satisfied: nbclient>=0.5.0 in /usr/local/lib/python3.11/dist-packages (from nbconvert>=5->notebook>=4.4.1->widgetsnbextension~=3.6.0->ipywidgets<9,>=7.5.1->rich[jupyter]>=12.0.0->zenml) (0.10.2)\n",
            "Requirement already satisfied: pandocfilters>=1.4.1 in /usr/local/lib/python3.11/dist-packages (from nbconvert>=5->notebook>=4.4.1->widgetsnbextension~=3.6.0->ipywidgets<9,>=7.5.1->rich[jupyter]>=12.0.0->zenml) (1.5.1)\n",
            "Requirement already satisfied: fastjsonschema>=2.15 in /usr/local/lib/python3.11/dist-packages (from nbformat->notebook>=4.4.1->widgetsnbextension~=3.6.0->ipywidgets<9,>=7.5.1->rich[jupyter]>=12.0.0->zenml) (2.21.1)\n",
            "Requirement already satisfied: jsonschema>=2.6 in /usr/local/lib/python3.11/dist-packages (from nbformat->notebook>=4.4.1->widgetsnbextension~=3.6.0->ipywidgets<9,>=7.5.1->rich[jupyter]>=12.0.0->zenml) (4.23.0)\n",
            "Requirement already satisfied: argon2-cffi-bindings in /usr/local/lib/python3.11/dist-packages (from argon2-cffi->notebook>=4.4.1->widgetsnbextension~=3.6.0->ipywidgets<9,>=7.5.1->rich[jupyter]>=12.0.0->zenml) (21.2.0)\n",
            "Requirement already satisfied: webencodings in /usr/local/lib/python3.11/dist-packages (from bleach!=5.0.0->bleach[css]!=5.0.0->nbconvert>=5->notebook>=4.4.1->widgetsnbextension~=3.6.0->ipywidgets<9,>=7.5.1->rich[jupyter]>=12.0.0->zenml) (0.5.1)\n",
            "Requirement already satisfied: tinycss2<1.5,>=1.1.0 in /usr/local/lib/python3.11/dist-packages (from bleach[css]!=5.0.0->nbconvert>=5->notebook>=4.4.1->widgetsnbextension~=3.6.0->ipywidgets<9,>=7.5.1->rich[jupyter]>=12.0.0->zenml) (1.4.0)\n",
            "Requirement already satisfied: attrs>=22.2.0 in /usr/local/lib/python3.11/dist-packages (from jsonschema>=2.6->nbformat->notebook>=4.4.1->widgetsnbextension~=3.6.0->ipywidgets<9,>=7.5.1->rich[jupyter]>=12.0.0->zenml) (25.2.0)\n",
            "Requirement already satisfied: jsonschema-specifications>=2023.03.6 in /usr/local/lib/python3.11/dist-packages (from jsonschema>=2.6->nbformat->notebook>=4.4.1->widgetsnbextension~=3.6.0->ipywidgets<9,>=7.5.1->rich[jupyter]>=12.0.0->zenml) (2024.10.1)\n",
            "Requirement already satisfied: referencing>=0.28.4 in /usr/local/lib/python3.11/dist-packages (from jsonschema>=2.6->nbformat->notebook>=4.4.1->widgetsnbextension~=3.6.0->ipywidgets<9,>=7.5.1->rich[jupyter]>=12.0.0->zenml) (0.36.2)\n",
            "Requirement already satisfied: rpds-py>=0.7.1 in /usr/local/lib/python3.11/dist-packages (from jsonschema>=2.6->nbformat->notebook>=4.4.1->widgetsnbextension~=3.6.0->ipywidgets<9,>=7.5.1->rich[jupyter]>=12.0.0->zenml) (0.23.1)\n",
            "Requirement already satisfied: jupyter-server<3,>=1.8 in /usr/local/lib/python3.11/dist-packages (from notebook-shim>=0.2.3->nbclassic>=0.4.7->notebook>=4.4.1->widgetsnbextension~=3.6.0->ipywidgets<9,>=7.5.1->rich[jupyter]>=12.0.0->zenml) (1.24.0)\n",
            "Requirement already satisfied: cffi>=1.0.1 in /usr/local/lib/python3.11/dist-packages (from argon2-cffi-bindings->argon2-cffi->notebook>=4.4.1->widgetsnbextension~=3.6.0->ipywidgets<9,>=7.5.1->rich[jupyter]>=12.0.0->zenml) (1.17.1)\n",
            "Requirement already satisfied: soupsieve>1.2 in /usr/local/lib/python3.11/dist-packages (from beautifulsoup4->nbconvert>=5->notebook>=4.4.1->widgetsnbextension~=3.6.0->ipywidgets<9,>=7.5.1->rich[jupyter]>=12.0.0->zenml) (2.6)\n",
            "Requirement already satisfied: pycparser in /usr/local/lib/python3.11/dist-packages (from cffi>=1.0.1->argon2-cffi-bindings->argon2-cffi->notebook>=4.4.1->widgetsnbextension~=3.6.0->ipywidgets<9,>=7.5.1->rich[jupyter]>=12.0.0->zenml) (2.22)\n",
            "Requirement already satisfied: anyio<4,>=3.1.0 in /usr/local/lib/python3.11/dist-packages (from jupyter-server<3,>=1.8->notebook-shim>=0.2.3->nbclassic>=0.4.7->notebook>=4.4.1->widgetsnbextension~=3.6.0->ipywidgets<9,>=7.5.1->rich[jupyter]>=12.0.0->zenml) (3.7.1)\n",
            "Requirement already satisfied: websocket-client in /usr/local/lib/python3.11/dist-packages (from jupyter-server<3,>=1.8->notebook-shim>=0.2.3->nbclassic>=0.4.7->notebook>=4.4.1->widgetsnbextension~=3.6.0->ipywidgets<9,>=7.5.1->rich[jupyter]>=12.0.0->zenml) (1.8.0)\n",
            "Requirement already satisfied: sniffio>=1.1 in /usr/local/lib/python3.11/dist-packages (from anyio<4,>=3.1.0->jupyter-server<3,>=1.8->notebook-shim>=0.2.3->nbclassic>=0.4.7->notebook>=4.4.1->widgetsnbextension~=3.6.0->ipywidgets<9,>=7.5.1->rich[jupyter]>=12.0.0->zenml) (1.3.1)\n"
          ]
        },
        {
          "output_type": "stream",
          "name": "stderr",
          "text": [
            "INFO:pyngrok.process.ngrok:t=2025-03-15T14:54:53+0000 lvl=info msg=\"join connections\" obj=join id=a064fc051f9f l=127.0.0.1:8237 r=175.157.18.169:17753\n"
          ]
        },
        {
          "output_type": "stream",
          "name": "stdout",
          "text": [
            "Authtoken saved to configuration file: /root/.config/ngrok/ngrok.yml\n",
            "\u001b[1;35mt=2025-03-15T14:54:53+0000 lvl=info msg=\"join connections\" obj=join id=a064fc051f9f l=127.0.0.1:8237 r=175.157.18.169:17753\u001b[0m\n"
          ]
        },
        {
          "output_type": "stream",
          "name": "stderr",
          "text": [
            "INFO:pyngrok.ngrok:Opening tunnel named: http-8237-ec699d13-898b-4dae-addc-55f50b47df23\n"
          ]
        },
        {
          "output_type": "stream",
          "name": "stdout",
          "text": [
            "\u001b[1;35mOpening tunnel named: http-8237-ec699d13-898b-4dae-addc-55f50b47df23\u001b[0m\n"
          ]
        },
        {
          "output_type": "stream",
          "name": "stderr",
          "text": [
            "INFO:pyngrok.process.ngrok:t=2025-03-15T14:54:53+0000 lvl=info msg=start pg=/api/tunnels id=9ccf9bd50c8e453b\n"
          ]
        },
        {
          "output_type": "stream",
          "name": "stdout",
          "text": [
            "\u001b[1;35mt=2025-03-15T14:54:53+0000 lvl=info msg=start pg=/api/tunnels id=9ccf9bd50c8e453b\u001b[0m\n"
          ]
        },
        {
          "output_type": "stream",
          "name": "stderr",
          "text": [
            "INFO:pyngrok.process.ngrok:t=2025-03-15T14:54:53+0000 lvl=info msg=\"started tunnel\" obj=tunnels name=http-8237-ec699d13-898b-4dae-addc-55f50b47df23 addr=http://localhost:8237 url=https://531a-34-145-21-243.ngrok-free.app\n"
          ]
        },
        {
          "output_type": "stream",
          "name": "stdout",
          "text": [
            "Ngrok Tunnel URL: https://531a-34-145-21-243.ngrok-free.app\n",
            "\u001b[1;35mt=2025-03-15T14:54:53+0000 lvl=info msg=\"started tunnel\" obj=tunnels name=http-8237-ec699d13-898b-4dae-addc-55f50b47df23 addr=\u001b[0m\u001b[34mhttp://localhost:8237\u001b[1;35m url=\u001b[0m\u001b[34mhttps://531a-34-145-21-243.ngrok-free.app\u001b[1;35m\u001b[0m\n"
          ]
        },
        {
          "output_type": "stream",
          "name": "stderr",
          "text": [
            "INFO:pyngrok.process.ngrok:t=2025-03-15T14:54:53+0000 lvl=info msg=end pg=/api/tunnels id=9ccf9bd50c8e453b status=201 dur=69.285445ms\n"
          ]
        },
        {
          "output_type": "stream",
          "name": "stdout",
          "text": [
            "\u001b[1;35mt=2025-03-15T14:54:53+0000 lvl=info msg=end pg=/api/tunnels id=9ccf9bd50c8e453b status=201 dur=69.285445ms\u001b[0m\n"
          ]
        },
        {
          "output_type": "stream",
          "name": "stderr",
          "text": [
            "INFO:pyngrok.process.ngrok:t=2025-03-15T14:54:53+0000 lvl=info msg=\"join connections\" obj=join id=af43ef15e19b l=127.0.0.1:8237 r=175.157.18.169:17753\n"
          ]
        },
        {
          "output_type": "stream",
          "name": "stdout",
          "text": [
            "\u001b[1;35mt=2025-03-15T14:54:53+0000 lvl=info msg=\"join connections\" obj=join id=af43ef15e19b l=127.0.0.1:8237 r=175.157.18.169:17753\u001b[0m\n"
          ]
        },
        {
          "output_type": "stream",
          "name": "stderr",
          "text": [
            "INFO:pyngrok.process.ngrok:t=2025-03-15T14:54:53+0000 lvl=info msg=\"join connections\" obj=join id=1d14d7161077 l=127.0.0.1:8237 r=175.157.18.169:17753\n"
          ]
        },
        {
          "output_type": "stream",
          "name": "stdout",
          "text": [
            "\u001b[1;35mt=2025-03-15T14:54:53+0000 lvl=info msg=\"join connections\" obj=join id=1d14d7161077 l=127.0.0.1:8237 r=175.157.18.169:17753\u001b[0m\n"
          ]
        },
        {
          "output_type": "stream",
          "name": "stderr",
          "text": [
            "INFO:pyngrok.process.ngrok:t=2025-03-15T14:54:53+0000 lvl=info msg=\"join connections\" obj=join id=faa644f480d2 l=127.0.0.1:8237 r=175.157.18.169:17753\n"
          ]
        },
        {
          "output_type": "stream",
          "name": "stdout",
          "text": [
            "\u001b[1;35mt=2025-03-15T14:54:53+0000 lvl=info msg=\"join connections\" obj=join id=faa644f480d2 l=127.0.0.1:8237 r=175.157.18.169:17753\u001b[0m\n"
          ]
        },
        {
          "output_type": "stream",
          "name": "stderr",
          "text": [
            "INFO:pyngrok.process.ngrok:t=2025-03-15T14:54:53+0000 lvl=info msg=\"join connections\" obj=join id=25cdeb181c56 l=127.0.0.1:8237 r=175.157.18.169:17753\n"
          ]
        },
        {
          "output_type": "stream",
          "name": "stdout",
          "text": [
            "\u001b[1;35mt=2025-03-15T14:54:53+0000 lvl=info msg=\"join connections\" obj=join id=25cdeb181c56 l=127.0.0.1:8237 r=175.157.18.169:17753\u001b[0m\n"
          ]
        },
        {
          "output_type": "stream",
          "name": "stderr",
          "text": [
            "INFO:pyngrok.process.ngrok:t=2025-03-15T14:54:53+0000 lvl=info msg=\"join connections\" obj=join id=b5c4576318e8 l=127.0.0.1:8237 r=175.157.18.169:17753\n"
          ]
        },
        {
          "output_type": "stream",
          "name": "stdout",
          "text": [
            "\u001b[1;35mt=2025-03-15T14:54:53+0000 lvl=info msg=\"join connections\" obj=join id=b5c4576318e8 l=127.0.0.1:8237 r=175.157.18.169:17753\u001b[0m\n"
          ]
        },
        {
          "output_type": "stream",
          "name": "stderr",
          "text": [
            "INFO:pyngrok.process.ngrok:t=2025-03-15T14:54:53+0000 lvl=info msg=\"join connections\" obj=join id=5091b443b91d l=127.0.0.1:8237 r=175.157.18.169:17753\n"
          ]
        },
        {
          "output_type": "stream",
          "name": "stdout",
          "text": [
            "\u001b[1;35mt=2025-03-15T14:54:53+0000 lvl=info msg=\"join connections\" obj=join id=5091b443b91d l=127.0.0.1:8237 r=175.157.18.169:17753\u001b[0m\n"
          ]
        },
        {
          "output_type": "stream",
          "name": "stderr",
          "text": [
            "INFO:pyngrok.process.ngrok:t=2025-03-15T14:54:57+0000 lvl=info msg=\"join connections\" obj=join id=7984d6119f35 l=127.0.0.1:8237 r=175.157.18.169:17753\n"
          ]
        },
        {
          "output_type": "stream",
          "name": "stdout",
          "text": [
            "\u001b[1;35mt=2025-03-15T14:54:57+0000 lvl=info msg=\"join connections\" obj=join id=7984d6119f35 l=127.0.0.1:8237 r=175.157.18.169:17753\u001b[0m\n"
          ]
        },
        {
          "output_type": "stream",
          "name": "stderr",
          "text": [
            "INFO:pyngrok.process.ngrok:t=2025-03-15T14:54:58+0000 lvl=info msg=\"join connections\" obj=join id=99b63615e75c l=127.0.0.1:8237 r=175.157.18.169:17753\n"
          ]
        },
        {
          "output_type": "stream",
          "name": "stdout",
          "text": [
            "\u001b[1;35mt=2025-03-15T14:54:58+0000 lvl=info msg=\"join connections\" obj=join id=99b63615e75c l=127.0.0.1:8237 r=175.157.18.169:17753\u001b[0m\n"
          ]
        },
        {
          "output_type": "stream",
          "name": "stderr",
          "text": [
            "INFO:pyngrok.process.ngrok:t=2025-03-15T14:54:58+0000 lvl=info msg=\"join connections\" obj=join id=f1210fd5efd5 l=127.0.0.1:8237 r=175.157.18.169:17753\n"
          ]
        },
        {
          "output_type": "stream",
          "name": "stdout",
          "text": [
            "\u001b[1;35mt=2025-03-15T14:54:58+0000 lvl=info msg=\"join connections\" obj=join id=f1210fd5efd5 l=127.0.0.1:8237 r=175.157.18.169:17753\u001b[0m\n"
          ]
        },
        {
          "output_type": "stream",
          "name": "stderr",
          "text": [
            "INFO:pyngrok.process.ngrok:t=2025-03-15T14:54:58+0000 lvl=info msg=\"join connections\" obj=join id=64771f96b73c l=127.0.0.1:8237 r=175.157.18.169:17753\n"
          ]
        },
        {
          "output_type": "stream",
          "name": "stdout",
          "text": [
            "\u001b[1;35mt=2025-03-15T14:54:58+0000 lvl=info msg=\"join connections\" obj=join id=64771f96b73c l=127.0.0.1:8237 r=175.157.18.169:17753\u001b[0m\n"
          ]
        },
        {
          "output_type": "stream",
          "name": "stderr",
          "text": [
            "INFO:pyngrok.process.ngrok:t=2025-03-15T14:54:58+0000 lvl=info msg=\"join connections\" obj=join id=694f78556131 l=127.0.0.1:8237 r=175.157.18.169:17753\n"
          ]
        },
        {
          "output_type": "stream",
          "name": "stdout",
          "text": [
            "\u001b[1;35mt=2025-03-15T14:54:58+0000 lvl=info msg=\"join connections\" obj=join id=694f78556131 l=127.0.0.1:8237 r=175.157.18.169:17753\u001b[0m\n"
          ]
        },
        {
          "output_type": "stream",
          "name": "stderr",
          "text": [
            "INFO:pyngrok.process.ngrok:t=2025-03-15T14:54:58+0000 lvl=info msg=\"join connections\" obj=join id=1bdcf58b8f83 l=127.0.0.1:8237 r=175.157.18.169:17753\n"
          ]
        },
        {
          "output_type": "stream",
          "name": "stdout",
          "text": [
            "\u001b[1;35mt=2025-03-15T14:54:58+0000 lvl=info msg=\"join connections\" obj=join id=1bdcf58b8f83 l=127.0.0.1:8237 r=175.157.18.169:17753\u001b[0m\n"
          ]
        },
        {
          "output_type": "stream",
          "name": "stderr",
          "text": [
            "INFO:pyngrok.process.ngrok:t=2025-03-15T14:54:58+0000 lvl=info msg=\"join connections\" obj=join id=a97aa5a5540b l=127.0.0.1:8237 r=175.157.18.169:17753\n"
          ]
        },
        {
          "output_type": "stream",
          "name": "stdout",
          "text": [
            "\u001b[1;35mt=2025-03-15T14:54:58+0000 lvl=info msg=\"join connections\" obj=join id=a97aa5a5540b l=127.0.0.1:8237 r=175.157.18.169:17753\u001b[0m\n"
          ]
        },
        {
          "output_type": "stream",
          "name": "stderr",
          "text": [
            "INFO:pyngrok.process.ngrok:t=2025-03-15T14:54:59+0000 lvl=info msg=\"join connections\" obj=join id=e7ef51692cf3 l=127.0.0.1:8237 r=175.157.18.169:17753\n"
          ]
        },
        {
          "output_type": "stream",
          "name": "stdout",
          "text": [
            "\u001b[1;35mt=2025-03-15T14:54:59+0000 lvl=info msg=\"join connections\" obj=join id=e7ef51692cf3 l=127.0.0.1:8237 r=175.157.18.169:17753\u001b[0m\n"
          ]
        },
        {
          "output_type": "stream",
          "name": "stderr",
          "text": [
            "INFO:pyngrok.process.ngrok:t=2025-03-15T14:54:59+0000 lvl=info msg=\"join connections\" obj=join id=348266b64364 l=127.0.0.1:8237 r=175.157.18.169:17753\n"
          ]
        },
        {
          "output_type": "stream",
          "name": "stdout",
          "text": [
            "\u001b[1;35mt=2025-03-15T14:54:59+0000 lvl=info msg=\"join connections\" obj=join id=348266b64364 l=127.0.0.1:8237 r=175.157.18.169:17753\u001b[0m\n"
          ]
        },
        {
          "output_type": "stream",
          "name": "stderr",
          "text": [
            "INFO:pyngrok.process.ngrok:t=2025-03-15T14:54:59+0000 lvl=info msg=\"join connections\" obj=join id=66fa7f65da95 l=127.0.0.1:8237 r=175.157.18.169:17753\n"
          ]
        },
        {
          "output_type": "stream",
          "name": "stdout",
          "text": [
            "\u001b[1;35mt=2025-03-15T14:54:59+0000 lvl=info msg=\"join connections\" obj=join id=66fa7f65da95 l=127.0.0.1:8237 r=175.157.18.169:17753\u001b[0m\n"
          ]
        },
        {
          "output_type": "stream",
          "name": "stderr",
          "text": [
            "INFO:pyngrok.process.ngrok:t=2025-03-15T14:54:59+0000 lvl=info msg=\"join connections\" obj=join id=e7168d9b730e l=127.0.0.1:8237 r=175.157.18.169:17753\n"
          ]
        },
        {
          "output_type": "stream",
          "name": "stdout",
          "text": [
            "\u001b[1;35mt=2025-03-15T14:54:59+0000 lvl=info msg=\"join connections\" obj=join id=e7168d9b730e l=127.0.0.1:8237 r=175.157.18.169:17753\u001b[0m\n"
          ]
        },
        {
          "output_type": "stream",
          "name": "stderr",
          "text": [
            "INFO:pyngrok.process.ngrok:t=2025-03-15T14:54:59+0000 lvl=info msg=\"join connections\" obj=join id=161da7f3b0ca l=127.0.0.1:8237 r=175.157.18.169:17753\n"
          ]
        },
        {
          "output_type": "stream",
          "name": "stdout",
          "text": [
            "\u001b[1;35mt=2025-03-15T14:54:59+0000 lvl=info msg=\"join connections\" obj=join id=161da7f3b0ca l=127.0.0.1:8237 r=175.157.18.169:17753\u001b[0m\n"
          ]
        },
        {
          "output_type": "stream",
          "name": "stderr",
          "text": [
            "INFO:pyngrok.process.ngrok:t=2025-03-15T14:54:59+0000 lvl=info msg=\"join connections\" obj=join id=02b038449869 l=127.0.0.1:8237 r=175.157.18.169:17753\n"
          ]
        },
        {
          "output_type": "stream",
          "name": "stdout",
          "text": [
            "\u001b[1;35mt=2025-03-15T14:54:59+0000 lvl=info msg=\"join connections\" obj=join id=02b038449869 l=127.0.0.1:8237 r=175.157.18.169:17753\u001b[0m\n"
          ]
        },
        {
          "output_type": "stream",
          "name": "stderr",
          "text": [
            "INFO:pyngrok.process.ngrok:t=2025-03-15T14:54:59+0000 lvl=info msg=\"join connections\" obj=join id=fe650363033b l=127.0.0.1:8237 r=175.157.18.169:17753\n"
          ]
        },
        {
          "output_type": "stream",
          "name": "stdout",
          "text": [
            "\u001b[1;35mt=2025-03-15T14:54:59+0000 lvl=info msg=\"join connections\" obj=join id=fe650363033b l=127.0.0.1:8237 r=175.157.18.169:17753\u001b[0m\n"
          ]
        },
        {
          "output_type": "stream",
          "name": "stderr",
          "text": [
            "INFO:pyngrok.process.ngrok:t=2025-03-15T14:55:00+0000 lvl=info msg=\"join connections\" obj=join id=c62d8914f928 l=127.0.0.1:8237 r=175.157.18.169:17753\n"
          ]
        },
        {
          "output_type": "stream",
          "name": "stdout",
          "text": [
            "\u001b[1;35mt=2025-03-15T14:55:00+0000 lvl=info msg=\"join connections\" obj=join id=c62d8914f928 l=127.0.0.1:8237 r=175.157.18.169:17753\u001b[0m\n"
          ]
        },
        {
          "output_type": "stream",
          "name": "stderr",
          "text": [
            "INFO:pyngrok.process.ngrok:t=2025-03-15T14:55:00+0000 lvl=info msg=\"join connections\" obj=join id=1bfbdd827123 l=127.0.0.1:8237 r=175.157.18.169:17753\n"
          ]
        },
        {
          "output_type": "stream",
          "name": "stdout",
          "text": [
            "\u001b[1;35mt=2025-03-15T14:55:00+0000 lvl=info msg=\"join connections\" obj=join id=1bfbdd827123 l=127.0.0.1:8237 r=175.157.18.169:17753\u001b[0m\n"
          ]
        },
        {
          "output_type": "stream",
          "name": "stderr",
          "text": [
            "INFO:pyngrok.process.ngrok:t=2025-03-15T14:55:00+0000 lvl=info msg=\"join connections\" obj=join id=571b0509e71f l=127.0.0.1:8237 r=175.157.18.169:17753\n"
          ]
        },
        {
          "output_type": "stream",
          "name": "stdout",
          "text": [
            "\u001b[1;35mt=2025-03-15T14:55:00+0000 lvl=info msg=\"join connections\" obj=join id=571b0509e71f l=127.0.0.1:8237 r=175.157.18.169:17753\u001b[0m\n"
          ]
        },
        {
          "output_type": "stream",
          "name": "stderr",
          "text": [
            "INFO:pyngrok.process.ngrok:t=2025-03-15T14:55:00+0000 lvl=info msg=\"join connections\" obj=join id=fc06a583815c l=127.0.0.1:8237 r=175.157.18.169:17753\n"
          ]
        },
        {
          "output_type": "stream",
          "name": "stdout",
          "text": [
            "\u001b[1;35mt=2025-03-15T14:55:00+0000 lvl=info msg=\"join connections\" obj=join id=fc06a583815c l=127.0.0.1:8237 r=175.157.18.169:17753\u001b[0m\n"
          ]
        },
        {
          "output_type": "stream",
          "name": "stderr",
          "text": [
            "INFO:pyngrok.process.ngrok:t=2025-03-15T14:55:00+0000 lvl=info msg=\"join connections\" obj=join id=72647c53cb10 l=127.0.0.1:8237 r=175.157.18.169:17753\n"
          ]
        },
        {
          "output_type": "stream",
          "name": "stdout",
          "text": [
            "\u001b[1;35mt=2025-03-15T14:55:00+0000 lvl=info msg=\"join connections\" obj=join id=72647c53cb10 l=127.0.0.1:8237 r=175.157.18.169:17753\u001b[0m\n"
          ]
        },
        {
          "output_type": "stream",
          "name": "stderr",
          "text": [
            "INFO:pyngrok.process.ngrok:t=2025-03-15T14:55:00+0000 lvl=info msg=\"join connections\" obj=join id=8be7ba2eee14 l=127.0.0.1:8237 r=175.157.18.169:17753\n"
          ]
        },
        {
          "output_type": "stream",
          "name": "stdout",
          "text": [
            "\u001b[1;35mt=2025-03-15T14:55:00+0000 lvl=info msg=\"join connections\" obj=join id=8be7ba2eee14 l=127.0.0.1:8237 r=175.157.18.169:17753\u001b[0m\n"
          ]
        },
        {
          "output_type": "stream",
          "name": "stderr",
          "text": [
            "INFO:pyngrok.process.ngrok:t=2025-03-15T14:55:00+0000 lvl=info msg=\"join connections\" obj=join id=d94e567ff2cf l=127.0.0.1:8237 r=175.157.18.169:17753\n"
          ]
        },
        {
          "output_type": "stream",
          "name": "stdout",
          "text": [
            "\u001b[1;35mt=2025-03-15T14:55:00+0000 lvl=info msg=\"join connections\" obj=join id=d94e567ff2cf l=127.0.0.1:8237 r=175.157.18.169:17753\u001b[0m\n"
          ]
        },
        {
          "output_type": "stream",
          "name": "stderr",
          "text": [
            "INFO:pyngrok.process.ngrok:t=2025-03-15T14:55:01+0000 lvl=info msg=\"join connections\" obj=join id=f930c2ea6864 l=127.0.0.1:8237 r=175.157.18.169:17753\n"
          ]
        },
        {
          "output_type": "stream",
          "name": "stdout",
          "text": [
            "\u001b[1;35mt=2025-03-15T14:55:01+0000 lvl=info msg=\"join connections\" obj=join id=f930c2ea6864 l=127.0.0.1:8237 r=175.157.18.169:17753\u001b[0m\n"
          ]
        },
        {
          "output_type": "stream",
          "name": "stderr",
          "text": [
            "INFO:pyngrok.process.ngrok:t=2025-03-15T14:55:01+0000 lvl=info msg=\"join connections\" obj=join id=955e3342fe51 l=127.0.0.1:8237 r=175.157.18.169:17753\n"
          ]
        },
        {
          "output_type": "stream",
          "name": "stdout",
          "text": [
            "\u001b[1;35mt=2025-03-15T14:55:01+0000 lvl=info msg=\"join connections\" obj=join id=955e3342fe51 l=127.0.0.1:8237 r=175.157.18.169:17753\u001b[0m\n"
          ]
        },
        {
          "output_type": "stream",
          "name": "stderr",
          "text": [
            "INFO:pyngrok.process.ngrok:t=2025-03-15T14:55:01+0000 lvl=info msg=\"join connections\" obj=join id=5320757f407a l=127.0.0.1:8237 r=175.157.18.169:17753\n"
          ]
        },
        {
          "output_type": "stream",
          "name": "stdout",
          "text": [
            "\u001b[1;35mt=2025-03-15T14:55:01+0000 lvl=info msg=\"join connections\" obj=join id=5320757f407a l=127.0.0.1:8237 r=175.157.18.169:17753\u001b[0m\n"
          ]
        },
        {
          "output_type": "stream",
          "name": "stderr",
          "text": [
            "INFO:pyngrok.process.ngrok:t=2025-03-15T14:55:01+0000 lvl=info msg=\"join connections\" obj=join id=5ef1680fafdc l=127.0.0.1:8237 r=175.157.18.169:17753\n"
          ]
        },
        {
          "output_type": "stream",
          "name": "stdout",
          "text": [
            "\u001b[1;35mt=2025-03-15T14:55:01+0000 lvl=info msg=\"join connections\" obj=join id=5ef1680fafdc l=127.0.0.1:8237 r=175.157.18.169:17753\u001b[0m\n"
          ]
        },
        {
          "output_type": "stream",
          "name": "stderr",
          "text": [
            "INFO:pyngrok.process.ngrok:t=2025-03-15T14:55:01+0000 lvl=info msg=\"join connections\" obj=join id=332eb9dce0ee l=127.0.0.1:8237 r=175.157.18.169:17753\n"
          ]
        },
        {
          "output_type": "stream",
          "name": "stdout",
          "text": [
            "\u001b[1;35mt=2025-03-15T14:55:01+0000 lvl=info msg=\"join connections\" obj=join id=332eb9dce0ee l=127.0.0.1:8237 r=175.157.18.169:17753\u001b[0m\n"
          ]
        },
        {
          "output_type": "stream",
          "name": "stderr",
          "text": [
            "INFO:pyngrok.process.ngrok:t=2025-03-15T14:55:01+0000 lvl=info msg=\"join connections\" obj=join id=ae8785ad3b72 l=127.0.0.1:8237 r=175.157.18.169:17753\n"
          ]
        },
        {
          "output_type": "stream",
          "name": "stdout",
          "text": [
            "\u001b[1;35mt=2025-03-15T14:55:01+0000 lvl=info msg=\"join connections\" obj=join id=ae8785ad3b72 l=127.0.0.1:8237 r=175.157.18.169:17753\u001b[0m\n"
          ]
        },
        {
          "output_type": "stream",
          "name": "stderr",
          "text": [
            "INFO:pyngrok.process.ngrok:t=2025-03-15T14:55:01+0000 lvl=info msg=\"join connections\" obj=join id=4e6530c3f071 l=127.0.0.1:8237 r=175.157.18.169:17753\n"
          ]
        },
        {
          "output_type": "stream",
          "name": "stdout",
          "text": [
            "\u001b[1;35mt=2025-03-15T14:55:01+0000 lvl=info msg=\"join connections\" obj=join id=4e6530c3f071 l=127.0.0.1:8237 r=175.157.18.169:17753\u001b[0m\n"
          ]
        },
        {
          "output_type": "stream",
          "name": "stderr",
          "text": [
            "INFO:pyngrok.process.ngrok:t=2025-03-15T14:55:01+0000 lvl=info msg=\"join connections\" obj=join id=6dc4b00f4770 l=127.0.0.1:8237 r=175.157.18.169:17753\n"
          ]
        },
        {
          "output_type": "stream",
          "name": "stdout",
          "text": [
            "\u001b[1;35mt=2025-03-15T14:55:01+0000 lvl=info msg=\"join connections\" obj=join id=6dc4b00f4770 l=127.0.0.1:8237 r=175.157.18.169:17753\u001b[0m\n"
          ]
        },
        {
          "output_type": "stream",
          "name": "stderr",
          "text": [
            "INFO:pyngrok.process.ngrok:t=2025-03-15T14:55:01+0000 lvl=info msg=\"join connections\" obj=join id=04c2d30f25a7 l=127.0.0.1:8237 r=175.157.18.169:17753\n"
          ]
        },
        {
          "output_type": "stream",
          "name": "stdout",
          "text": [
            "\u001b[1;35mt=2025-03-15T14:55:01+0000 lvl=info msg=\"join connections\" obj=join id=04c2d30f25a7 l=127.0.0.1:8237 r=175.157.18.169:17753\u001b[0m\n"
          ]
        },
        {
          "output_type": "stream",
          "name": "stderr",
          "text": [
            "INFO:pyngrok.process.ngrok:t=2025-03-15T14:55:01+0000 lvl=info msg=\"join connections\" obj=join id=3e77b2df07ef l=127.0.0.1:8237 r=175.157.18.169:17753\n"
          ]
        },
        {
          "output_type": "stream",
          "name": "stdout",
          "text": [
            "\u001b[1;35mt=2025-03-15T14:55:01+0000 lvl=info msg=\"join connections\" obj=join id=3e77b2df07ef l=127.0.0.1:8237 r=175.157.18.169:17753\u001b[0m\n"
          ]
        },
        {
          "output_type": "stream",
          "name": "stderr",
          "text": [
            "INFO:pyngrok.process.ngrok:t=2025-03-15T14:55:01+0000 lvl=info msg=\"join connections\" obj=join id=c3cd6fde8743 l=127.0.0.1:8237 r=175.157.18.169:17753\n"
          ]
        },
        {
          "output_type": "stream",
          "name": "stdout",
          "text": [
            "\u001b[1;35mt=2025-03-15T14:55:01+0000 lvl=info msg=\"join connections\" obj=join id=c3cd6fde8743 l=127.0.0.1:8237 r=175.157.18.169:17753\u001b[0m\n"
          ]
        },
        {
          "output_type": "stream",
          "name": "stderr",
          "text": [
            "INFO:pyngrok.process.ngrok:t=2025-03-15T14:55:01+0000 lvl=info msg=\"join connections\" obj=join id=5fd3d1be7f6d l=127.0.0.1:8237 r=175.157.18.169:17753\n"
          ]
        },
        {
          "output_type": "stream",
          "name": "stdout",
          "text": [
            "\u001b[1;35mt=2025-03-15T14:55:01+0000 lvl=info msg=\"join connections\" obj=join id=5fd3d1be7f6d l=127.0.0.1:8237 r=175.157.18.169:17753\u001b[0m\n"
          ]
        },
        {
          "output_type": "stream",
          "name": "stderr",
          "text": [
            "INFO:pyngrok.process.ngrok:t=2025-03-15T14:55:02+0000 lvl=info msg=\"join connections\" obj=join id=61ac61b97a58 l=127.0.0.1:8237 r=175.157.18.169:17753\n"
          ]
        },
        {
          "output_type": "stream",
          "name": "stdout",
          "text": [
            "\u001b[1;35mt=2025-03-15T14:55:02+0000 lvl=info msg=\"join connections\" obj=join id=61ac61b97a58 l=127.0.0.1:8237 r=175.157.18.169:17753\u001b[0m\n"
          ]
        },
        {
          "output_type": "stream",
          "name": "stderr",
          "text": [
            "INFO:pyngrok.process.ngrok:t=2025-03-15T14:55:02+0000 lvl=info msg=\"join connections\" obj=join id=fa968b3b6cf9 l=127.0.0.1:8237 r=175.157.18.169:17753\n"
          ]
        },
        {
          "output_type": "stream",
          "name": "stdout",
          "text": [
            "\u001b[1;35mt=2025-03-15T14:55:02+0000 lvl=info msg=\"join connections\" obj=join id=fa968b3b6cf9 l=127.0.0.1:8237 r=175.157.18.169:17753\u001b[0m\n"
          ]
        },
        {
          "output_type": "stream",
          "name": "stderr",
          "text": [
            "INFO:pyngrok.process.ngrok:t=2025-03-15T14:55:02+0000 lvl=info msg=\"join connections\" obj=join id=b7d2cb9bc42e l=127.0.0.1:8237 r=175.157.18.169:17753\n"
          ]
        },
        {
          "output_type": "stream",
          "name": "stdout",
          "text": [
            "\u001b[1;35mt=2025-03-15T14:55:02+0000 lvl=info msg=\"join connections\" obj=join id=b7d2cb9bc42e l=127.0.0.1:8237 r=175.157.18.169:17753\u001b[0m\n"
          ]
        },
        {
          "output_type": "stream",
          "name": "stderr",
          "text": [
            "INFO:pyngrok.process.ngrok:t=2025-03-15T14:55:02+0000 lvl=info msg=\"join connections\" obj=join id=0a073396f3e2 l=127.0.0.1:8237 r=175.157.18.169:17753\n"
          ]
        },
        {
          "output_type": "stream",
          "name": "stdout",
          "text": [
            "\u001b[1;35mt=2025-03-15T14:55:02+0000 lvl=info msg=\"join connections\" obj=join id=0a073396f3e2 l=127.0.0.1:8237 r=175.157.18.169:17753\u001b[0m\n"
          ]
        },
        {
          "output_type": "stream",
          "name": "stderr",
          "text": [
            "INFO:pyngrok.process.ngrok:t=2025-03-15T14:55:02+0000 lvl=info msg=\"join connections\" obj=join id=6d5808bb4d91 l=127.0.0.1:8237 r=175.157.18.169:17753\n"
          ]
        },
        {
          "output_type": "stream",
          "name": "stdout",
          "text": [
            "\u001b[1;35mt=2025-03-15T14:55:02+0000 lvl=info msg=\"join connections\" obj=join id=6d5808bb4d91 l=127.0.0.1:8237 r=175.157.18.169:17753\u001b[0m\n"
          ]
        },
        {
          "output_type": "stream",
          "name": "stderr",
          "text": [
            "INFO:pyngrok.process.ngrok:t=2025-03-15T14:55:02+0000 lvl=info msg=\"join connections\" obj=join id=b666c070bac8 l=127.0.0.1:8237 r=175.157.18.169:17753\n"
          ]
        },
        {
          "output_type": "stream",
          "name": "stdout",
          "text": [
            "\u001b[1;35mt=2025-03-15T14:55:02+0000 lvl=info msg=\"join connections\" obj=join id=b666c070bac8 l=127.0.0.1:8237 r=175.157.18.169:17753\u001b[0m\n"
          ]
        },
        {
          "output_type": "stream",
          "name": "stderr",
          "text": [
            "INFO:pyngrok.process.ngrok:t=2025-03-15T14:55:02+0000 lvl=info msg=\"join connections\" obj=join id=4e0abd29ae74 l=127.0.0.1:8237 r=175.157.18.169:17753\n"
          ]
        },
        {
          "output_type": "stream",
          "name": "stdout",
          "text": [
            "\u001b[1;35mt=2025-03-15T14:55:02+0000 lvl=info msg=\"join connections\" obj=join id=4e0abd29ae74 l=127.0.0.1:8237 r=175.157.18.169:17753\u001b[0m\n"
          ]
        },
        {
          "output_type": "stream",
          "name": "stderr",
          "text": [
            "INFO:pyngrok.process.ngrok:t=2025-03-15T14:55:02+0000 lvl=info msg=\"join connections\" obj=join id=9799326664aa l=127.0.0.1:8237 r=175.157.18.169:17753\n"
          ]
        },
        {
          "output_type": "stream",
          "name": "stdout",
          "text": [
            "\u001b[1;35mt=2025-03-15T14:55:02+0000 lvl=info msg=\"join connections\" obj=join id=9799326664aa l=127.0.0.1:8237 r=175.157.18.169:17753\u001b[0m\n"
          ]
        },
        {
          "output_type": "stream",
          "name": "stderr",
          "text": [
            "INFO:pyngrok.process.ngrok:t=2025-03-15T14:55:02+0000 lvl=info msg=\"join connections\" obj=join id=bda0d495a9d4 l=127.0.0.1:8237 r=175.157.18.169:17753\n"
          ]
        },
        {
          "output_type": "stream",
          "name": "stdout",
          "text": [
            "\u001b[1;35mt=2025-03-15T14:55:02+0000 lvl=info msg=\"join connections\" obj=join id=bda0d495a9d4 l=127.0.0.1:8237 r=175.157.18.169:17753\u001b[0m\n"
          ]
        },
        {
          "output_type": "stream",
          "name": "stderr",
          "text": [
            "INFO:pyngrok.process.ngrok:t=2025-03-15T14:55:02+0000 lvl=info msg=\"join connections\" obj=join id=1a064c74228b l=127.0.0.1:8237 r=175.157.18.169:17753\n"
          ]
        },
        {
          "output_type": "stream",
          "name": "stdout",
          "text": [
            "\u001b[1;35mt=2025-03-15T14:55:02+0000 lvl=info msg=\"join connections\" obj=join id=1a064c74228b l=127.0.0.1:8237 r=175.157.18.169:17753\u001b[0m\n"
          ]
        },
        {
          "output_type": "stream",
          "name": "stderr",
          "text": [
            "INFO:pyngrok.process.ngrok:t=2025-03-15T14:55:02+0000 lvl=info msg=\"join connections\" obj=join id=a9e0697c6b1c l=127.0.0.1:8237 r=175.157.18.169:17753\n"
          ]
        },
        {
          "output_type": "stream",
          "name": "stdout",
          "text": [
            "\u001b[1;35mt=2025-03-15T14:55:02+0000 lvl=info msg=\"join connections\" obj=join id=a9e0697c6b1c l=127.0.0.1:8237 r=175.157.18.169:17753\u001b[0m\n"
          ]
        },
        {
          "output_type": "stream",
          "name": "stderr",
          "text": [
            "INFO:pyngrok.process.ngrok:t=2025-03-15T14:55:02+0000 lvl=info msg=\"join connections\" obj=join id=170e8696c46f l=127.0.0.1:8237 r=175.157.18.169:17753\n"
          ]
        },
        {
          "output_type": "stream",
          "name": "stdout",
          "text": [
            "\u001b[1;35mt=2025-03-15T14:55:02+0000 lvl=info msg=\"join connections\" obj=join id=170e8696c46f l=127.0.0.1:8237 r=175.157.18.169:17753\u001b[0m\n"
          ]
        },
        {
          "output_type": "stream",
          "name": "stderr",
          "text": [
            "INFO:pyngrok.process.ngrok:t=2025-03-15T14:55:02+0000 lvl=info msg=\"join connections\" obj=join id=1239e5521a0d l=127.0.0.1:8237 r=175.157.18.169:17753\n"
          ]
        },
        {
          "output_type": "stream",
          "name": "stdout",
          "text": [
            "\u001b[1;35mt=2025-03-15T14:55:02+0000 lvl=info msg=\"join connections\" obj=join id=1239e5521a0d l=127.0.0.1:8237 r=175.157.18.169:17753\u001b[0m\n"
          ]
        },
        {
          "output_type": "stream",
          "name": "stderr",
          "text": [
            "INFO:pyngrok.process.ngrok:t=2025-03-15T14:55:02+0000 lvl=info msg=\"join connections\" obj=join id=fa5ab5566acf l=127.0.0.1:8237 r=175.157.18.169:17753\n"
          ]
        },
        {
          "output_type": "stream",
          "name": "stdout",
          "text": [
            "\u001b[1;35mt=2025-03-15T14:55:02+0000 lvl=info msg=\"join connections\" obj=join id=fa5ab5566acf l=127.0.0.1:8237 r=175.157.18.169:17753\u001b[0m\n"
          ]
        },
        {
          "output_type": "stream",
          "name": "stderr",
          "text": [
            "INFO:pyngrok.process.ngrok:t=2025-03-15T14:55:02+0000 lvl=info msg=\"join connections\" obj=join id=3c4f74c5fce1 l=127.0.0.1:8237 r=175.157.18.169:17753\n"
          ]
        },
        {
          "output_type": "stream",
          "name": "stdout",
          "text": [
            "\u001b[1;35mt=2025-03-15T14:55:02+0000 lvl=info msg=\"join connections\" obj=join id=3c4f74c5fce1 l=127.0.0.1:8237 r=175.157.18.169:17753\u001b[0m\n"
          ]
        },
        {
          "output_type": "stream",
          "name": "stderr",
          "text": [
            "INFO:pyngrok.process.ngrok:t=2025-03-15T14:55:03+0000 lvl=info msg=\"join connections\" obj=join id=1fb37f578794 l=127.0.0.1:8237 r=175.157.18.169:17753\n"
          ]
        },
        {
          "output_type": "stream",
          "name": "stdout",
          "text": [
            "\u001b[1;35mt=2025-03-15T14:55:03+0000 lvl=info msg=\"join connections\" obj=join id=1fb37f578794 l=127.0.0.1:8237 r=175.157.18.169:17753\u001b[0m\n"
          ]
        },
        {
          "output_type": "stream",
          "name": "stderr",
          "text": [
            "INFO:pyngrok.process.ngrok:t=2025-03-15T14:55:03+0000 lvl=info msg=\"join connections\" obj=join id=f66b50553735 l=127.0.0.1:8237 r=175.157.18.169:17753\n"
          ]
        },
        {
          "output_type": "stream",
          "name": "stdout",
          "text": [
            "\u001b[1;35mt=2025-03-15T14:55:03+0000 lvl=info msg=\"join connections\" obj=join id=f66b50553735 l=127.0.0.1:8237 r=175.157.18.169:17753\u001b[0m\n"
          ]
        },
        {
          "output_type": "stream",
          "name": "stderr",
          "text": [
            "INFO:pyngrok.process.ngrok:t=2025-03-15T14:55:03+0000 lvl=info msg=\"join connections\" obj=join id=3f7d117e33d7 l=127.0.0.1:8237 r=175.157.18.169:17753\n"
          ]
        },
        {
          "output_type": "stream",
          "name": "stdout",
          "text": [
            "\u001b[1;35mt=2025-03-15T14:55:03+0000 lvl=info msg=\"join connections\" obj=join id=3f7d117e33d7 l=127.0.0.1:8237 r=175.157.18.169:17753\u001b[0m\n"
          ]
        },
        {
          "output_type": "stream",
          "name": "stderr",
          "text": [
            "INFO:pyngrok.process.ngrok:t=2025-03-15T14:55:03+0000 lvl=info msg=\"join connections\" obj=join id=afd3608ad5f2 l=127.0.0.1:8237 r=175.157.18.169:17753\n"
          ]
        },
        {
          "output_type": "stream",
          "name": "stdout",
          "text": [
            "\u001b[1;35mt=2025-03-15T14:55:03+0000 lvl=info msg=\"join connections\" obj=join id=afd3608ad5f2 l=127.0.0.1:8237 r=175.157.18.169:17753\u001b[0m\n"
          ]
        },
        {
          "output_type": "stream",
          "name": "stderr",
          "text": [
            "INFO:pyngrok.process.ngrok:t=2025-03-15T14:55:03+0000 lvl=info msg=\"join connections\" obj=join id=ea56db2378f7 l=127.0.0.1:8237 r=175.157.18.169:17753\n"
          ]
        },
        {
          "output_type": "stream",
          "name": "stdout",
          "text": [
            "\u001b[1;35mt=2025-03-15T14:55:03+0000 lvl=info msg=\"join connections\" obj=join id=ea56db2378f7 l=127.0.0.1:8237 r=175.157.18.169:17753\u001b[0m\n"
          ]
        },
        {
          "output_type": "stream",
          "name": "stderr",
          "text": [
            "INFO:pyngrok.process.ngrok:t=2025-03-15T14:55:03+0000 lvl=info msg=\"join connections\" obj=join id=1f75a36fd7a7 l=127.0.0.1:8237 r=175.157.18.169:17753\n"
          ]
        },
        {
          "output_type": "stream",
          "name": "stdout",
          "text": [
            "\u001b[1;35mt=2025-03-15T14:55:03+0000 lvl=info msg=\"join connections\" obj=join id=1f75a36fd7a7 l=127.0.0.1:8237 r=175.157.18.169:17753\u001b[0m\n"
          ]
        },
        {
          "output_type": "stream",
          "name": "stderr",
          "text": [
            "INFO:pyngrok.process.ngrok:t=2025-03-15T14:55:03+0000 lvl=info msg=\"join connections\" obj=join id=ced7c3bffb1b l=127.0.0.1:8237 r=175.157.18.169:17753\n"
          ]
        },
        {
          "output_type": "stream",
          "name": "stdout",
          "text": [
            "\u001b[1;35mt=2025-03-15T14:55:03+0000 lvl=info msg=\"join connections\" obj=join id=ced7c3bffb1b l=127.0.0.1:8237 r=175.157.18.169:17753\u001b[0m\n"
          ]
        },
        {
          "output_type": "stream",
          "name": "stderr",
          "text": [
            "INFO:pyngrok.process.ngrok:t=2025-03-15T14:55:03+0000 lvl=info msg=\"join connections\" obj=join id=f2e04d4543da l=127.0.0.1:8237 r=175.157.18.169:17753\n"
          ]
        },
        {
          "output_type": "stream",
          "name": "stdout",
          "text": [
            "\u001b[1;35mt=2025-03-15T14:55:03+0000 lvl=info msg=\"join connections\" obj=join id=f2e04d4543da l=127.0.0.1:8237 r=175.157.18.169:17753\u001b[0m\n"
          ]
        },
        {
          "output_type": "stream",
          "name": "stderr",
          "text": [
            "INFO:pyngrok.process.ngrok:t=2025-03-15T14:55:05+0000 lvl=info msg=\"join connections\" obj=join id=4faaee5d022f l=127.0.0.1:8237 r=175.157.18.169:17753\n"
          ]
        },
        {
          "output_type": "stream",
          "name": "stdout",
          "text": [
            "\u001b[1;35mt=2025-03-15T14:55:05+0000 lvl=info msg=\"join connections\" obj=join id=4faaee5d022f l=127.0.0.1:8237 r=175.157.18.169:17753\u001b[0m\n"
          ]
        },
        {
          "output_type": "stream",
          "name": "stderr",
          "text": [
            "INFO:pyngrok.process.ngrok:t=2025-03-15T14:55:05+0000 lvl=info msg=\"join connections\" obj=join id=977dd4436674 l=127.0.0.1:8237 r=175.157.18.169:17753\n"
          ]
        },
        {
          "output_type": "stream",
          "name": "stdout",
          "text": [
            "\u001b[1;35mt=2025-03-15T14:55:05+0000 lvl=info msg=\"join connections\" obj=join id=977dd4436674 l=127.0.0.1:8237 r=175.157.18.169:17753\u001b[0m\n"
          ]
        },
        {
          "output_type": "stream",
          "name": "stderr",
          "text": [
            "INFO:pyngrok.process.ngrok:t=2025-03-15T14:55:05+0000 lvl=info msg=\"join connections\" obj=join id=4e9feee3604d l=127.0.0.1:8237 r=175.157.18.169:17753\n"
          ]
        },
        {
          "output_type": "stream",
          "name": "stdout",
          "text": [
            "\u001b[1;35mt=2025-03-15T14:55:05+0000 lvl=info msg=\"join connections\" obj=join id=4e9feee3604d l=127.0.0.1:8237 r=175.157.18.169:17753\u001b[0m\n"
          ]
        },
        {
          "output_type": "stream",
          "name": "stderr",
          "text": [
            "INFO:pyngrok.process.ngrok:t=2025-03-15T14:55:05+0000 lvl=info msg=\"join connections\" obj=join id=edeb00e43008 l=127.0.0.1:8237 r=175.157.18.169:17753\n"
          ]
        },
        {
          "output_type": "stream",
          "name": "stdout",
          "text": [
            "\u001b[1;35mt=2025-03-15T14:55:05+0000 lvl=info msg=\"join connections\" obj=join id=edeb00e43008 l=127.0.0.1:8237 r=175.157.18.169:17753\u001b[0m\n"
          ]
        },
        {
          "output_type": "stream",
          "name": "stderr",
          "text": [
            "INFO:pyngrok.process.ngrok:t=2025-03-15T14:55:05+0000 lvl=info msg=\"join connections\" obj=join id=a6528b82f7b7 l=127.0.0.1:8237 r=175.157.18.169:17753\n"
          ]
        },
        {
          "output_type": "stream",
          "name": "stdout",
          "text": [
            "\u001b[1;35mt=2025-03-15T14:55:05+0000 lvl=info msg=\"join connections\" obj=join id=a6528b82f7b7 l=127.0.0.1:8237 r=175.157.18.169:17753\u001b[0m\n"
          ]
        },
        {
          "output_type": "stream",
          "name": "stderr",
          "text": [
            "INFO:pyngrok.process.ngrok:t=2025-03-15T14:55:05+0000 lvl=info msg=\"join connections\" obj=join id=f484f35d99a3 l=127.0.0.1:8237 r=175.157.18.169:17753\n"
          ]
        },
        {
          "output_type": "stream",
          "name": "stdout",
          "text": [
            "\u001b[1;35mt=2025-03-15T14:55:05+0000 lvl=info msg=\"join connections\" obj=join id=f484f35d99a3 l=127.0.0.1:8237 r=175.157.18.169:17753\u001b[0m\n"
          ]
        },
        {
          "output_type": "stream",
          "name": "stderr",
          "text": [
            "INFO:pyngrok.process.ngrok:t=2025-03-15T14:55:05+0000 lvl=info msg=\"join connections\" obj=join id=b9dd2b18edf7 l=127.0.0.1:8237 r=175.157.18.169:17753\n"
          ]
        },
        {
          "output_type": "stream",
          "name": "stdout",
          "text": [
            "\u001b[1;35mt=2025-03-15T14:55:05+0000 lvl=info msg=\"join connections\" obj=join id=b9dd2b18edf7 l=127.0.0.1:8237 r=175.157.18.169:17753\u001b[0m\n"
          ]
        },
        {
          "output_type": "stream",
          "name": "stderr",
          "text": [
            "INFO:pyngrok.process.ngrok:t=2025-03-15T14:55:06+0000 lvl=info msg=\"join connections\" obj=join id=fb7b398fe907 l=127.0.0.1:8237 r=175.157.18.169:17753\n"
          ]
        },
        {
          "output_type": "stream",
          "name": "stdout",
          "text": [
            "\u001b[1;35mt=2025-03-15T14:55:06+0000 lvl=info msg=\"join connections\" obj=join id=fb7b398fe907 l=127.0.0.1:8237 r=175.157.18.169:17753\u001b[0m\n"
          ]
        },
        {
          "output_type": "stream",
          "name": "stderr",
          "text": [
            "INFO:pyngrok.process.ngrok:t=2025-03-15T14:55:06+0000 lvl=info msg=\"join connections\" obj=join id=662b64084ef8 l=127.0.0.1:8237 r=175.157.18.169:17753\n"
          ]
        },
        {
          "output_type": "stream",
          "name": "stdout",
          "text": [
            "\u001b[1;35mt=2025-03-15T14:55:06+0000 lvl=info msg=\"join connections\" obj=join id=662b64084ef8 l=127.0.0.1:8237 r=175.157.18.169:17753\u001b[0m\n"
          ]
        },
        {
          "output_type": "stream",
          "name": "stderr",
          "text": [
            "INFO:pyngrok.process.ngrok:t=2025-03-15T14:55:06+0000 lvl=info msg=\"join connections\" obj=join id=398b4be76572 l=127.0.0.1:8237 r=175.157.18.169:17753\n"
          ]
        },
        {
          "output_type": "stream",
          "name": "stdout",
          "text": [
            "\u001b[1;35mt=2025-03-15T14:55:06+0000 lvl=info msg=\"join connections\" obj=join id=398b4be76572 l=127.0.0.1:8237 r=175.157.18.169:17753\u001b[0m\n"
          ]
        },
        {
          "output_type": "stream",
          "name": "stderr",
          "text": [
            "INFO:pyngrok.process.ngrok:t=2025-03-15T14:55:06+0000 lvl=info msg=\"join connections\" obj=join id=c6849c70ffe0 l=127.0.0.1:8237 r=175.157.18.169:17753\n"
          ]
        },
        {
          "output_type": "stream",
          "name": "stdout",
          "text": [
            "\u001b[1;35mt=2025-03-15T14:55:06+0000 lvl=info msg=\"join connections\" obj=join id=c6849c70ffe0 l=127.0.0.1:8237 r=175.157.18.169:17753\u001b[0m\n"
          ]
        },
        {
          "output_type": "stream",
          "name": "stderr",
          "text": [
            "INFO:pyngrok.process.ngrok:t=2025-03-15T14:55:06+0000 lvl=info msg=\"join connections\" obj=join id=691447adca51 l=127.0.0.1:8237 r=175.157.18.169:17753\n"
          ]
        },
        {
          "output_type": "stream",
          "name": "stdout",
          "text": [
            "\u001b[1;35mt=2025-03-15T14:55:06+0000 lvl=info msg=\"join connections\" obj=join id=691447adca51 l=127.0.0.1:8237 r=175.157.18.169:17753\u001b[0m\n"
          ]
        },
        {
          "output_type": "stream",
          "name": "stderr",
          "text": [
            "INFO:pyngrok.process.ngrok:t=2025-03-15T14:55:06+0000 lvl=info msg=\"join connections\" obj=join id=669bb285a4da l=127.0.0.1:8237 r=175.157.18.169:17753\n"
          ]
        },
        {
          "output_type": "stream",
          "name": "stdout",
          "text": [
            "\u001b[1;35mt=2025-03-15T14:55:06+0000 lvl=info msg=\"join connections\" obj=join id=669bb285a4da l=127.0.0.1:8237 r=175.157.18.169:17753\u001b[0m\n"
          ]
        },
        {
          "output_type": "stream",
          "name": "stderr",
          "text": [
            "INFO:pyngrok.process.ngrok:t=2025-03-15T14:55:06+0000 lvl=info msg=\"join connections\" obj=join id=bb0e9ac8de7e l=127.0.0.1:8237 r=175.157.18.169:17753\n"
          ]
        },
        {
          "output_type": "stream",
          "name": "stdout",
          "text": [
            "\u001b[1;35mt=2025-03-15T14:55:06+0000 lvl=info msg=\"join connections\" obj=join id=bb0e9ac8de7e l=127.0.0.1:8237 r=175.157.18.169:17753\u001b[0m\n"
          ]
        },
        {
          "output_type": "stream",
          "name": "stderr",
          "text": [
            "INFO:pyngrok.process.ngrok:t=2025-03-15T14:55:07+0000 lvl=info msg=\"join connections\" obj=join id=c51604558c93 l=127.0.0.1:8237 r=175.157.18.169:17753\n"
          ]
        },
        {
          "output_type": "stream",
          "name": "stdout",
          "text": [
            "\u001b[1;35mt=2025-03-15T14:55:07+0000 lvl=info msg=\"join connections\" obj=join id=c51604558c93 l=127.0.0.1:8237 r=175.157.18.169:17753\u001b[0m\n"
          ]
        },
        {
          "output_type": "stream",
          "name": "stderr",
          "text": [
            "INFO:pyngrok.process.ngrok:t=2025-03-15T14:55:07+0000 lvl=info msg=\"join connections\" obj=join id=e6928561cd18 l=127.0.0.1:8237 r=175.157.18.169:17753\n"
          ]
        },
        {
          "output_type": "stream",
          "name": "stdout",
          "text": [
            "\u001b[1;35mt=2025-03-15T14:55:07+0000 lvl=info msg=\"join connections\" obj=join id=e6928561cd18 l=127.0.0.1:8237 r=175.157.18.169:17753\u001b[0m\n"
          ]
        },
        {
          "output_type": "stream",
          "name": "stderr",
          "text": [
            "INFO:pyngrok.process.ngrok:t=2025-03-15T14:55:07+0000 lvl=info msg=\"join connections\" obj=join id=5dae7532c0ec l=127.0.0.1:8237 r=175.157.18.169:17753\n"
          ]
        },
        {
          "output_type": "stream",
          "name": "stdout",
          "text": [
            "\u001b[1;35mt=2025-03-15T14:55:07+0000 lvl=info msg=\"join connections\" obj=join id=5dae7532c0ec l=127.0.0.1:8237 r=175.157.18.169:17753\u001b[0m\n"
          ]
        },
        {
          "output_type": "stream",
          "name": "stderr",
          "text": [
            "INFO:pyngrok.process.ngrok:t=2025-03-15T14:55:07+0000 lvl=info msg=\"join connections\" obj=join id=81888efeb647 l=127.0.0.1:8237 r=175.157.18.169:17753\n"
          ]
        },
        {
          "output_type": "stream",
          "name": "stdout",
          "text": [
            "\u001b[1;35mt=2025-03-15T14:55:07+0000 lvl=info msg=\"join connections\" obj=join id=81888efeb647 l=127.0.0.1:8237 r=175.157.18.169:17753\u001b[0m\n"
          ]
        },
        {
          "output_type": "stream",
          "name": "stderr",
          "text": [
            "INFO:pyngrok.process.ngrok:t=2025-03-15T14:55:07+0000 lvl=info msg=\"join connections\" obj=join id=cda1c3f09140 l=127.0.0.1:8237 r=175.157.18.169:17753\n"
          ]
        },
        {
          "output_type": "stream",
          "name": "stdout",
          "text": [
            "\u001b[1;35mt=2025-03-15T14:55:07+0000 lvl=info msg=\"join connections\" obj=join id=cda1c3f09140 l=127.0.0.1:8237 r=175.157.18.169:17753\u001b[0m\n"
          ]
        },
        {
          "output_type": "stream",
          "name": "stderr",
          "text": [
            "INFO:pyngrok.process.ngrok:t=2025-03-15T14:55:07+0000 lvl=info msg=\"join connections\" obj=join id=726f65337665 l=127.0.0.1:8237 r=175.157.18.169:17753\n"
          ]
        },
        {
          "output_type": "stream",
          "name": "stdout",
          "text": [
            "\u001b[1;35mt=2025-03-15T14:55:07+0000 lvl=info msg=\"join connections\" obj=join id=726f65337665 l=127.0.0.1:8237 r=175.157.18.169:17753\u001b[0m\n"
          ]
        },
        {
          "output_type": "stream",
          "name": "stderr",
          "text": [
            "INFO:pyngrok.process.ngrok:t=2025-03-15T14:55:07+0000 lvl=info msg=\"join connections\" obj=join id=87cd874f41cf l=127.0.0.1:8237 r=175.157.18.169:17753\n"
          ]
        },
        {
          "output_type": "stream",
          "name": "stdout",
          "text": [
            "\u001b[1;35mt=2025-03-15T14:55:07+0000 lvl=info msg=\"join connections\" obj=join id=87cd874f41cf l=127.0.0.1:8237 r=175.157.18.169:17753\u001b[0m\n"
          ]
        },
        {
          "output_type": "stream",
          "name": "stderr",
          "text": [
            "INFO:pyngrok.process.ngrok:t=2025-03-15T14:55:07+0000 lvl=info msg=\"join connections\" obj=join id=c37c2255f01a l=127.0.0.1:8237 r=175.157.18.169:17753\n"
          ]
        },
        {
          "output_type": "stream",
          "name": "stdout",
          "text": [
            "\u001b[1;35mt=2025-03-15T14:55:07+0000 lvl=info msg=\"join connections\" obj=join id=c37c2255f01a l=127.0.0.1:8237 r=175.157.18.169:17753\u001b[0m\n"
          ]
        },
        {
          "output_type": "stream",
          "name": "stderr",
          "text": [
            "INFO:pyngrok.process.ngrok:t=2025-03-15T14:55:08+0000 lvl=info msg=\"join connections\" obj=join id=1261c36db1da l=127.0.0.1:8237 r=175.157.18.169:17753\n"
          ]
        },
        {
          "output_type": "stream",
          "name": "stdout",
          "text": [
            "\u001b[1;35mt=2025-03-15T14:55:08+0000 lvl=info msg=\"join connections\" obj=join id=1261c36db1da l=127.0.0.1:8237 r=175.157.18.169:17753\u001b[0m\n"
          ]
        },
        {
          "output_type": "stream",
          "name": "stderr",
          "text": [
            "INFO:pyngrok.process.ngrok:t=2025-03-15T14:55:08+0000 lvl=info msg=\"join connections\" obj=join id=7cac164d8440 l=127.0.0.1:8237 r=175.157.18.169:17753\n"
          ]
        },
        {
          "output_type": "stream",
          "name": "stdout",
          "text": [
            "\u001b[1;35mt=2025-03-15T14:55:08+0000 lvl=info msg=\"join connections\" obj=join id=7cac164d8440 l=127.0.0.1:8237 r=175.157.18.169:17753\u001b[0m\n"
          ]
        },
        {
          "output_type": "stream",
          "name": "stderr",
          "text": [
            "INFO:pyngrok.process.ngrok:t=2025-03-15T14:55:08+0000 lvl=info msg=\"join connections\" obj=join id=c7318a00699d l=127.0.0.1:8237 r=175.157.18.169:17753\n"
          ]
        },
        {
          "output_type": "stream",
          "name": "stdout",
          "text": [
            "\u001b[1;35mt=2025-03-15T14:55:08+0000 lvl=info msg=\"join connections\" obj=join id=c7318a00699d l=127.0.0.1:8237 r=175.157.18.169:17753\u001b[0m\n"
          ]
        },
        {
          "output_type": "stream",
          "name": "stderr",
          "text": [
            "INFO:pyngrok.process.ngrok:t=2025-03-15T14:55:08+0000 lvl=info msg=\"join connections\" obj=join id=fa52e5d2eeb3 l=127.0.0.1:8237 r=175.157.18.169:17753\n"
          ]
        },
        {
          "output_type": "stream",
          "name": "stdout",
          "text": [
            "\u001b[1;35mt=2025-03-15T14:55:08+0000 lvl=info msg=\"join connections\" obj=join id=fa52e5d2eeb3 l=127.0.0.1:8237 r=175.157.18.169:17753\u001b[0m\n"
          ]
        },
        {
          "output_type": "stream",
          "name": "stderr",
          "text": [
            "INFO:pyngrok.process.ngrok:t=2025-03-15T14:55:08+0000 lvl=info msg=\"join connections\" obj=join id=40b27817360d l=127.0.0.1:8237 r=175.157.18.169:17753\n"
          ]
        },
        {
          "output_type": "stream",
          "name": "stdout",
          "text": [
            "\u001b[1;35mt=2025-03-15T14:55:08+0000 lvl=info msg=\"join connections\" obj=join id=40b27817360d l=127.0.0.1:8237 r=175.157.18.169:17753\u001b[0m\n"
          ]
        },
        {
          "output_type": "stream",
          "name": "stderr",
          "text": [
            "INFO:pyngrok.process.ngrok:t=2025-03-15T14:55:09+0000 lvl=info msg=\"join connections\" obj=join id=d0dd57b42fb6 l=127.0.0.1:8237 r=175.157.18.169:17753\n"
          ]
        },
        {
          "output_type": "stream",
          "name": "stdout",
          "text": [
            "\u001b[1;35mt=2025-03-15T14:55:09+0000 lvl=info msg=\"join connections\" obj=join id=d0dd57b42fb6 l=127.0.0.1:8237 r=175.157.18.169:17753\u001b[0m\n"
          ]
        },
        {
          "output_type": "stream",
          "name": "stderr",
          "text": [
            "INFO:pyngrok.process.ngrok:t=2025-03-15T14:55:09+0000 lvl=info msg=\"join connections\" obj=join id=7b99b667b9ad l=127.0.0.1:8237 r=175.157.18.169:17753\n"
          ]
        },
        {
          "output_type": "stream",
          "name": "stdout",
          "text": [
            "\u001b[1;35mt=2025-03-15T14:55:09+0000 lvl=info msg=\"join connections\" obj=join id=7b99b667b9ad l=127.0.0.1:8237 r=175.157.18.169:17753\u001b[0m\n"
          ]
        },
        {
          "output_type": "stream",
          "name": "stderr",
          "text": [
            "INFO:pyngrok.process.ngrok:t=2025-03-15T14:55:09+0000 lvl=info msg=\"join connections\" obj=join id=0e6dfb0bbf9d l=127.0.0.1:8237 r=175.157.18.169:17753\n"
          ]
        },
        {
          "output_type": "stream",
          "name": "stdout",
          "text": [
            "\u001b[1;35mt=2025-03-15T14:55:09+0000 lvl=info msg=\"join connections\" obj=join id=0e6dfb0bbf9d l=127.0.0.1:8237 r=175.157.18.169:17753\u001b[0m\n"
          ]
        },
        {
          "output_type": "stream",
          "name": "stderr",
          "text": [
            "INFO:pyngrok.process.ngrok:t=2025-03-15T14:55:09+0000 lvl=info msg=\"join connections\" obj=join id=42c6929d8d85 l=127.0.0.1:8237 r=175.157.18.169:17753\n"
          ]
        },
        {
          "output_type": "stream",
          "name": "stdout",
          "text": [
            "\u001b[1;35mt=2025-03-15T14:55:09+0000 lvl=info msg=\"join connections\" obj=join id=42c6929d8d85 l=127.0.0.1:8237 r=175.157.18.169:17753\u001b[0m\n"
          ]
        },
        {
          "output_type": "stream",
          "name": "stderr",
          "text": [
            "INFO:pyngrok.process.ngrok:t=2025-03-15T14:55:09+0000 lvl=info msg=\"join connections\" obj=join id=c0e16ebd6eb3 l=127.0.0.1:8237 r=175.157.18.169:17753\n"
          ]
        },
        {
          "output_type": "stream",
          "name": "stdout",
          "text": [
            "\u001b[1;35mt=2025-03-15T14:55:09+0000 lvl=info msg=\"join connections\" obj=join id=c0e16ebd6eb3 l=127.0.0.1:8237 r=175.157.18.169:17753\u001b[0m\n"
          ]
        },
        {
          "output_type": "stream",
          "name": "stderr",
          "text": [
            "INFO:pyngrok.process.ngrok:t=2025-03-15T14:55:09+0000 lvl=info msg=\"join connections\" obj=join id=2dd8fe59f24e l=127.0.0.1:8237 r=175.157.18.169:17753\n"
          ]
        },
        {
          "output_type": "stream",
          "name": "stdout",
          "text": [
            "\u001b[1;35mt=2025-03-15T14:55:09+0000 lvl=info msg=\"join connections\" obj=join id=2dd8fe59f24e l=127.0.0.1:8237 r=175.157.18.169:17753\u001b[0m\n"
          ]
        },
        {
          "output_type": "stream",
          "name": "stderr",
          "text": [
            "INFO:pyngrok.process.ngrok:t=2025-03-15T14:55:09+0000 lvl=info msg=\"join connections\" obj=join id=308ff7929d26 l=127.0.0.1:8237 r=175.157.18.169:17753\n"
          ]
        },
        {
          "output_type": "stream",
          "name": "stdout",
          "text": [
            "\u001b[1;35mt=2025-03-15T14:55:09+0000 lvl=info msg=\"join connections\" obj=join id=308ff7929d26 l=127.0.0.1:8237 r=175.157.18.169:17753\u001b[0m\n"
          ]
        },
        {
          "output_type": "stream",
          "name": "stderr",
          "text": [
            "INFO:pyngrok.process.ngrok:t=2025-03-15T14:55:09+0000 lvl=info msg=\"join connections\" obj=join id=fc94277854da l=127.0.0.1:8237 r=175.157.18.169:17753\n"
          ]
        },
        {
          "output_type": "stream",
          "name": "stdout",
          "text": [
            "\u001b[1;35mt=2025-03-15T14:55:09+0000 lvl=info msg=\"join connections\" obj=join id=fc94277854da l=127.0.0.1:8237 r=175.157.18.169:17753\u001b[0m\n"
          ]
        },
        {
          "output_type": "stream",
          "name": "stderr",
          "text": [
            "INFO:pyngrok.process.ngrok:t=2025-03-15T14:55:09+0000 lvl=info msg=\"join connections\" obj=join id=2ddb373c0db1 l=127.0.0.1:8237 r=175.157.18.169:17753\n"
          ]
        },
        {
          "output_type": "stream",
          "name": "stdout",
          "text": [
            "\u001b[1;35mt=2025-03-15T14:55:09+0000 lvl=info msg=\"join connections\" obj=join id=2ddb373c0db1 l=127.0.0.1:8237 r=175.157.18.169:17753\u001b[0m\n"
          ]
        },
        {
          "output_type": "stream",
          "name": "stderr",
          "text": [
            "INFO:pyngrok.process.ngrok:t=2025-03-15T14:55:09+0000 lvl=info msg=\"join connections\" obj=join id=86f77a8785ab l=127.0.0.1:8237 r=175.157.18.169:17753\n"
          ]
        },
        {
          "output_type": "stream",
          "name": "stdout",
          "text": [
            "\u001b[1;35mt=2025-03-15T14:55:09+0000 lvl=info msg=\"join connections\" obj=join id=86f77a8785ab l=127.0.0.1:8237 r=175.157.18.169:17753\u001b[0m\n"
          ]
        },
        {
          "output_type": "stream",
          "name": "stderr",
          "text": [
            "INFO:pyngrok.process.ngrok:t=2025-03-15T14:55:09+0000 lvl=info msg=\"join connections\" obj=join id=9dd486a5924b l=127.0.0.1:8237 r=175.157.18.169:17753\n"
          ]
        },
        {
          "output_type": "stream",
          "name": "stdout",
          "text": [
            "\u001b[1;35mt=2025-03-15T14:55:09+0000 lvl=info msg=\"join connections\" obj=join id=9dd486a5924b l=127.0.0.1:8237 r=175.157.18.169:17753\u001b[0m\n"
          ]
        },
        {
          "output_type": "stream",
          "name": "stderr",
          "text": [
            "INFO:pyngrok.process.ngrok:t=2025-03-15T14:55:09+0000 lvl=info msg=\"join connections\" obj=join id=0615a3bcb32c l=127.0.0.1:8237 r=175.157.18.169:17753\n"
          ]
        },
        {
          "output_type": "stream",
          "name": "stdout",
          "text": [
            "\u001b[1;35mt=2025-03-15T14:55:09+0000 lvl=info msg=\"join connections\" obj=join id=0615a3bcb32c l=127.0.0.1:8237 r=175.157.18.169:17753\u001b[0m\n"
          ]
        },
        {
          "output_type": "stream",
          "name": "stderr",
          "text": [
            "INFO:pyngrok.process.ngrok:t=2025-03-15T14:55:09+0000 lvl=info msg=\"join connections\" obj=join id=2e3b7e6e5354 l=127.0.0.1:8237 r=175.157.18.169:17753\n"
          ]
        },
        {
          "output_type": "stream",
          "name": "stdout",
          "text": [
            "\u001b[1;35mt=2025-03-15T14:55:09+0000 lvl=info msg=\"join connections\" obj=join id=2e3b7e6e5354 l=127.0.0.1:8237 r=175.157.18.169:17753\u001b[0m\n"
          ]
        },
        {
          "output_type": "stream",
          "name": "stderr",
          "text": [
            "INFO:pyngrok.process.ngrok:t=2025-03-15T14:55:09+0000 lvl=info msg=\"join connections\" obj=join id=f34f8dd85429 l=127.0.0.1:8237 r=175.157.18.169:17753\n"
          ]
        },
        {
          "output_type": "stream",
          "name": "stdout",
          "text": [
            "\u001b[1;35mt=2025-03-15T14:55:09+0000 lvl=info msg=\"join connections\" obj=join id=f34f8dd85429 l=127.0.0.1:8237 r=175.157.18.169:17753\u001b[0m\n"
          ]
        },
        {
          "output_type": "stream",
          "name": "stderr",
          "text": [
            "INFO:pyngrok.process.ngrok:t=2025-03-15T14:55:09+0000 lvl=info msg=\"join connections\" obj=join id=a49f9b777647 l=127.0.0.1:8237 r=175.157.18.169:17753\n"
          ]
        },
        {
          "output_type": "stream",
          "name": "stdout",
          "text": [
            "\u001b[1;35mt=2025-03-15T14:55:09+0000 lvl=info msg=\"join connections\" obj=join id=a49f9b777647 l=127.0.0.1:8237 r=175.157.18.169:17753\u001b[0m\n"
          ]
        },
        {
          "output_type": "stream",
          "name": "stderr",
          "text": [
            "INFO:pyngrok.process.ngrok:t=2025-03-15T14:55:09+0000 lvl=info msg=\"join connections\" obj=join id=6849f600dbf7 l=127.0.0.1:8237 r=175.157.18.169:17753\n"
          ]
        },
        {
          "output_type": "stream",
          "name": "stdout",
          "text": [
            "\u001b[1;35mt=2025-03-15T14:55:09+0000 lvl=info msg=\"join connections\" obj=join id=6849f600dbf7 l=127.0.0.1:8237 r=175.157.18.169:17753\u001b[0m\n"
          ]
        },
        {
          "output_type": "stream",
          "name": "stderr",
          "text": [
            "INFO:pyngrok.process.ngrok:t=2025-03-15T14:55:09+0000 lvl=info msg=\"join connections\" obj=join id=afb34257d59c l=127.0.0.1:8237 r=175.157.18.169:17753\n"
          ]
        },
        {
          "output_type": "stream",
          "name": "stdout",
          "text": [
            "\u001b[1;35mt=2025-03-15T14:55:09+0000 lvl=info msg=\"join connections\" obj=join id=afb34257d59c l=127.0.0.1:8237 r=175.157.18.169:17753\u001b[0m\n"
          ]
        },
        {
          "output_type": "stream",
          "name": "stderr",
          "text": [
            "INFO:pyngrok.process.ngrok:t=2025-03-15T14:55:09+0000 lvl=info msg=\"join connections\" obj=join id=4aa98a939a92 l=127.0.0.1:8237 r=175.157.18.169:17753\n"
          ]
        },
        {
          "output_type": "stream",
          "name": "stdout",
          "text": [
            "\u001b[1;35mt=2025-03-15T14:55:09+0000 lvl=info msg=\"join connections\" obj=join id=4aa98a939a92 l=127.0.0.1:8237 r=175.157.18.169:17753\u001b[0m\n"
          ]
        },
        {
          "output_type": "stream",
          "name": "stderr",
          "text": [
            "INFO:pyngrok.process.ngrok:t=2025-03-15T14:55:09+0000 lvl=info msg=\"join connections\" obj=join id=e34d657a956e l=127.0.0.1:8237 r=175.157.18.169:17753\n"
          ]
        },
        {
          "output_type": "stream",
          "name": "stdout",
          "text": [
            "\u001b[1;35mt=2025-03-15T14:55:09+0000 lvl=info msg=\"join connections\" obj=join id=e34d657a956e l=127.0.0.1:8237 r=175.157.18.169:17753\u001b[0m\n"
          ]
        },
        {
          "output_type": "stream",
          "name": "stderr",
          "text": [
            "INFO:pyngrok.process.ngrok:t=2025-03-15T14:55:09+0000 lvl=info msg=\"join connections\" obj=join id=74956c58c2cd l=127.0.0.1:8237 r=175.157.18.169:17753\n"
          ]
        },
        {
          "output_type": "stream",
          "name": "stdout",
          "text": [
            "\u001b[1;35mt=2025-03-15T14:55:09+0000 lvl=info msg=\"join connections\" obj=join id=74956c58c2cd l=127.0.0.1:8237 r=175.157.18.169:17753\u001b[0m\n"
          ]
        },
        {
          "output_type": "stream",
          "name": "stderr",
          "text": [
            "INFO:pyngrok.process.ngrok:t=2025-03-15T14:55:09+0000 lvl=info msg=\"join connections\" obj=join id=8039ad7c7e09 l=127.0.0.1:8237 r=175.157.18.169:17753\n"
          ]
        },
        {
          "output_type": "stream",
          "name": "stdout",
          "text": [
            "\u001b[1;35mt=2025-03-15T14:55:09+0000 lvl=info msg=\"join connections\" obj=join id=8039ad7c7e09 l=127.0.0.1:8237 r=175.157.18.169:17753\u001b[0m\n"
          ]
        },
        {
          "output_type": "stream",
          "name": "stderr",
          "text": [
            "INFO:pyngrok.process.ngrok:t=2025-03-15T14:55:09+0000 lvl=info msg=\"join connections\" obj=join id=699fd40991a6 l=127.0.0.1:8237 r=175.157.18.169:17753\n"
          ]
        },
        {
          "output_type": "stream",
          "name": "stdout",
          "text": [
            "\u001b[1;35mt=2025-03-15T14:55:09+0000 lvl=info msg=\"join connections\" obj=join id=699fd40991a6 l=127.0.0.1:8237 r=175.157.18.169:17753\u001b[0m\n"
          ]
        },
        {
          "output_type": "stream",
          "name": "stderr",
          "text": [
            "INFO:pyngrok.process.ngrok:t=2025-03-15T14:55:09+0000 lvl=info msg=\"join connections\" obj=join id=fb3423e4604f l=127.0.0.1:8237 r=175.157.18.169:17753\n"
          ]
        },
        {
          "output_type": "stream",
          "name": "stdout",
          "text": [
            "\u001b[1;35mt=2025-03-15T14:55:09+0000 lvl=info msg=\"join connections\" obj=join id=fb3423e4604f l=127.0.0.1:8237 r=175.157.18.169:17753\u001b[0m\n"
          ]
        },
        {
          "output_type": "stream",
          "name": "stderr",
          "text": [
            "INFO:pyngrok.process.ngrok:t=2025-03-15T14:55:09+0000 lvl=info msg=\"join connections\" obj=join id=fc029cd0370b l=127.0.0.1:8237 r=175.157.18.169:17753\n"
          ]
        },
        {
          "output_type": "stream",
          "name": "stdout",
          "text": [
            "\u001b[1;35mt=2025-03-15T14:55:09+0000 lvl=info msg=\"join connections\" obj=join id=fc029cd0370b l=127.0.0.1:8237 r=175.157.18.169:17753\u001b[0m\n"
          ]
        },
        {
          "output_type": "stream",
          "name": "stderr",
          "text": [
            "INFO:pyngrok.process.ngrok:t=2025-03-15T14:55:09+0000 lvl=info msg=\"join connections\" obj=join id=99fd2720130b l=127.0.0.1:8237 r=175.157.18.169:17753\n"
          ]
        },
        {
          "output_type": "stream",
          "name": "stdout",
          "text": [
            "\u001b[1;35mt=2025-03-15T14:55:09+0000 lvl=info msg=\"join connections\" obj=join id=99fd2720130b l=127.0.0.1:8237 r=175.157.18.169:17753\u001b[0m\n"
          ]
        },
        {
          "output_type": "stream",
          "name": "stderr",
          "text": [
            "INFO:pyngrok.process.ngrok:t=2025-03-15T14:55:09+0000 lvl=info msg=\"join connections\" obj=join id=ae044e6ca048 l=127.0.0.1:8237 r=175.157.18.169:17753\n"
          ]
        },
        {
          "output_type": "stream",
          "name": "stdout",
          "text": [
            "\u001b[1;35mt=2025-03-15T14:55:09+0000 lvl=info msg=\"join connections\" obj=join id=ae044e6ca048 l=127.0.0.1:8237 r=175.157.18.169:17753\u001b[0m\n"
          ]
        },
        {
          "output_type": "stream",
          "name": "stderr",
          "text": [
            "INFO:pyngrok.process.ngrok:t=2025-03-15T14:55:09+0000 lvl=info msg=\"join connections\" obj=join id=d606faf57e33 l=127.0.0.1:8237 r=175.157.18.169:17753\n"
          ]
        },
        {
          "output_type": "stream",
          "name": "stdout",
          "text": [
            "\u001b[1;35mt=2025-03-15T14:55:09+0000 lvl=info msg=\"join connections\" obj=join id=d606faf57e33 l=127.0.0.1:8237 r=175.157.18.169:17753\u001b[0m\n"
          ]
        },
        {
          "output_type": "stream",
          "name": "stderr",
          "text": [
            "INFO:pyngrok.process.ngrok:t=2025-03-15T14:55:09+0000 lvl=info msg=\"join connections\" obj=join id=7ea8e1282d79 l=127.0.0.1:8237 r=175.157.18.169:17753\n"
          ]
        },
        {
          "output_type": "stream",
          "name": "stdout",
          "text": [
            "\u001b[1;35mt=2025-03-15T14:55:09+0000 lvl=info msg=\"join connections\" obj=join id=7ea8e1282d79 l=127.0.0.1:8237 r=175.157.18.169:17753\u001b[0m\n"
          ]
        },
        {
          "output_type": "stream",
          "name": "stderr",
          "text": [
            "INFO:pyngrok.process.ngrok:t=2025-03-15T14:55:09+0000 lvl=info msg=\"join connections\" obj=join id=c31ed3e6cbd7 l=127.0.0.1:8237 r=175.157.18.169:17753\n"
          ]
        },
        {
          "output_type": "stream",
          "name": "stdout",
          "text": [
            "\u001b[1;35mt=2025-03-15T14:55:09+0000 lvl=info msg=\"join connections\" obj=join id=c31ed3e6cbd7 l=127.0.0.1:8237 r=175.157.18.169:17753\u001b[0m\n"
          ]
        },
        {
          "output_type": "stream",
          "name": "stderr",
          "text": [
            "INFO:pyngrok.process.ngrok:t=2025-03-15T14:55:09+0000 lvl=info msg=\"join connections\" obj=join id=b4e4fdaac307 l=127.0.0.1:8237 r=175.157.18.169:17753\n"
          ]
        },
        {
          "output_type": "stream",
          "name": "stdout",
          "text": [
            "\u001b[1;35mt=2025-03-15T14:55:09+0000 lvl=info msg=\"join connections\" obj=join id=b4e4fdaac307 l=127.0.0.1:8237 r=175.157.18.169:17753\u001b[0m\n"
          ]
        },
        {
          "output_type": "stream",
          "name": "stderr",
          "text": [
            "INFO:pyngrok.process.ngrok:t=2025-03-15T14:55:09+0000 lvl=info msg=\"join connections\" obj=join id=17ebd34923a5 l=127.0.0.1:8237 r=175.157.18.169:17753\n"
          ]
        },
        {
          "output_type": "stream",
          "name": "stdout",
          "text": [
            "\u001b[1;35mt=2025-03-15T14:55:09+0000 lvl=info msg=\"join connections\" obj=join id=17ebd34923a5 l=127.0.0.1:8237 r=175.157.18.169:17753\u001b[0m\n"
          ]
        },
        {
          "output_type": "stream",
          "name": "stderr",
          "text": [
            "INFO:pyngrok.process.ngrok:t=2025-03-15T14:55:09+0000 lvl=info msg=\"join connections\" obj=join id=a06edfd50c23 l=127.0.0.1:8237 r=175.157.18.169:17753\n"
          ]
        },
        {
          "output_type": "stream",
          "name": "stdout",
          "text": [
            "\u001b[1;35mt=2025-03-15T14:55:09+0000 lvl=info msg=\"join connections\" obj=join id=a06edfd50c23 l=127.0.0.1:8237 r=175.157.18.169:17753\u001b[0m\n"
          ]
        },
        {
          "output_type": "stream",
          "name": "stderr",
          "text": [
            "INFO:pyngrok.process.ngrok:t=2025-03-15T14:55:09+0000 lvl=info msg=\"join connections\" obj=join id=6d5c3fbd24a3 l=127.0.0.1:8237 r=175.157.18.169:17753\n"
          ]
        },
        {
          "output_type": "stream",
          "name": "stdout",
          "text": [
            "\u001b[1;35mt=2025-03-15T14:55:09+0000 lvl=info msg=\"join connections\" obj=join id=6d5c3fbd24a3 l=127.0.0.1:8237 r=175.157.18.169:17753\u001b[0m\n"
          ]
        },
        {
          "output_type": "stream",
          "name": "stderr",
          "text": [
            "INFO:pyngrok.process.ngrok:t=2025-03-15T14:55:09+0000 lvl=info msg=\"join connections\" obj=join id=fd5bd70047fc l=127.0.0.1:8237 r=175.157.18.169:17753\n"
          ]
        },
        {
          "output_type": "stream",
          "name": "stdout",
          "text": [
            "\u001b[1;35mt=2025-03-15T14:55:09+0000 lvl=info msg=\"join connections\" obj=join id=fd5bd70047fc l=127.0.0.1:8237 r=175.157.18.169:17753\u001b[0m\n"
          ]
        },
        {
          "output_type": "stream",
          "name": "stderr",
          "text": [
            "INFO:pyngrok.process.ngrok:t=2025-03-15T14:55:09+0000 lvl=info msg=\"join connections\" obj=join id=518e82a6fa77 l=127.0.0.1:8237 r=175.157.18.169:17753\n"
          ]
        },
        {
          "output_type": "stream",
          "name": "stdout",
          "text": [
            "\u001b[1;35mt=2025-03-15T14:55:09+0000 lvl=info msg=\"join connections\" obj=join id=518e82a6fa77 l=127.0.0.1:8237 r=175.157.18.169:17753\u001b[0m\n"
          ]
        },
        {
          "output_type": "stream",
          "name": "stderr",
          "text": [
            "INFO:pyngrok.process.ngrok:t=2025-03-15T14:55:09+0000 lvl=info msg=\"join connections\" obj=join id=685fbcead2b8 l=127.0.0.1:8237 r=175.157.18.169:17753\n"
          ]
        },
        {
          "output_type": "stream",
          "name": "stdout",
          "text": [
            "\u001b[1;35mt=2025-03-15T14:55:09+0000 lvl=info msg=\"join connections\" obj=join id=685fbcead2b8 l=127.0.0.1:8237 r=175.157.18.169:17753\u001b[0m\n"
          ]
        },
        {
          "output_type": "stream",
          "name": "stderr",
          "text": [
            "INFO:pyngrok.process.ngrok:t=2025-03-15T14:55:09+0000 lvl=info msg=\"join connections\" obj=join id=58598936e04d l=127.0.0.1:8237 r=175.157.18.169:17753\n"
          ]
        },
        {
          "output_type": "stream",
          "name": "stdout",
          "text": [
            "\u001b[1;35mt=2025-03-15T14:55:09+0000 lvl=info msg=\"join connections\" obj=join id=58598936e04d l=127.0.0.1:8237 r=175.157.18.169:17753\u001b[0m\n"
          ]
        },
        {
          "output_type": "stream",
          "name": "stderr",
          "text": [
            "INFO:pyngrok.process.ngrok:t=2025-03-15T14:55:09+0000 lvl=info msg=\"join connections\" obj=join id=a4bdce782eee l=127.0.0.1:8237 r=175.157.18.169:17753\n"
          ]
        },
        {
          "output_type": "stream",
          "name": "stdout",
          "text": [
            "\u001b[1;35mt=2025-03-15T14:55:09+0000 lvl=info msg=\"join connections\" obj=join id=a4bdce782eee l=127.0.0.1:8237 r=175.157.18.169:17753\u001b[0m\n"
          ]
        },
        {
          "output_type": "stream",
          "name": "stderr",
          "text": [
            "INFO:pyngrok.process.ngrok:t=2025-03-15T14:55:09+0000 lvl=info msg=\"join connections\" obj=join id=cc870805dfb5 l=127.0.0.1:8237 r=175.157.18.169:17753\n"
          ]
        },
        {
          "output_type": "stream",
          "name": "stdout",
          "text": [
            "\u001b[1;35mt=2025-03-15T14:55:09+0000 lvl=info msg=\"join connections\" obj=join id=cc870805dfb5 l=127.0.0.1:8237 r=175.157.18.169:17753\u001b[0m\n"
          ]
        },
        {
          "output_type": "stream",
          "name": "stderr",
          "text": [
            "INFO:pyngrok.process.ngrok:t=2025-03-15T14:55:09+0000 lvl=info msg=\"join connections\" obj=join id=ab23caaef449 l=127.0.0.1:8237 r=175.157.18.169:17753\n"
          ]
        },
        {
          "output_type": "stream",
          "name": "stdout",
          "text": [
            "\u001b[1;35mt=2025-03-15T14:55:09+0000 lvl=info msg=\"join connections\" obj=join id=ab23caaef449 l=127.0.0.1:8237 r=175.157.18.169:17753\u001b[0m\n"
          ]
        },
        {
          "output_type": "stream",
          "name": "stderr",
          "text": [
            "INFO:pyngrok.process.ngrok:t=2025-03-15T14:55:09+0000 lvl=info msg=\"join connections\" obj=join id=7876de686cd1 l=127.0.0.1:8237 r=175.157.18.169:17753\n"
          ]
        },
        {
          "output_type": "stream",
          "name": "stdout",
          "text": [
            "\u001b[1;35mt=2025-03-15T14:55:09+0000 lvl=info msg=\"join connections\" obj=join id=7876de686cd1 l=127.0.0.1:8237 r=175.157.18.169:17753\u001b[0m\n"
          ]
        },
        {
          "output_type": "stream",
          "name": "stderr",
          "text": [
            "INFO:pyngrok.process.ngrok:t=2025-03-15T14:55:09+0000 lvl=info msg=\"join connections\" obj=join id=514e9bb8e595 l=127.0.0.1:8237 r=175.157.18.169:17753\n"
          ]
        },
        {
          "output_type": "stream",
          "name": "stdout",
          "text": [
            "\u001b[1;35mt=2025-03-15T14:55:09+0000 lvl=info msg=\"join connections\" obj=join id=514e9bb8e595 l=127.0.0.1:8237 r=175.157.18.169:17753\u001b[0m\n"
          ]
        },
        {
          "output_type": "stream",
          "name": "stderr",
          "text": [
            "INFO:pyngrok.process.ngrok:t=2025-03-15T14:55:09+0000 lvl=info msg=\"join connections\" obj=join id=bf3488e3abda l=127.0.0.1:8237 r=175.157.18.169:17753\n"
          ]
        },
        {
          "output_type": "stream",
          "name": "stdout",
          "text": [
            "\u001b[1;35mt=2025-03-15T14:55:09+0000 lvl=info msg=\"join connections\" obj=join id=bf3488e3abda l=127.0.0.1:8237 r=175.157.18.169:17753\u001b[0m\n"
          ]
        },
        {
          "output_type": "stream",
          "name": "stderr",
          "text": [
            "INFO:pyngrok.process.ngrok:t=2025-03-15T14:55:09+0000 lvl=info msg=\"join connections\" obj=join id=50879736da4f l=127.0.0.1:8237 r=175.157.18.169:17753\n"
          ]
        },
        {
          "output_type": "stream",
          "name": "stdout",
          "text": [
            "\u001b[1;35mt=2025-03-15T14:55:09+0000 lvl=info msg=\"join connections\" obj=join id=50879736da4f l=127.0.0.1:8237 r=175.157.18.169:17753\u001b[0m\n"
          ]
        },
        {
          "output_type": "stream",
          "name": "stderr",
          "text": [
            "INFO:pyngrok.process.ngrok:t=2025-03-15T14:55:09+0000 lvl=info msg=\"join connections\" obj=join id=fe92bb37a44c l=127.0.0.1:8237 r=175.157.18.169:17753\n"
          ]
        },
        {
          "output_type": "stream",
          "name": "stdout",
          "text": [
            "\u001b[1;35mt=2025-03-15T14:55:09+0000 lvl=info msg=\"join connections\" obj=join id=fe92bb37a44c l=127.0.0.1:8237 r=175.157.18.169:17753\u001b[0m\n"
          ]
        },
        {
          "output_type": "stream",
          "name": "stderr",
          "text": [
            "INFO:pyngrok.process.ngrok:t=2025-03-15T14:55:09+0000 lvl=info msg=\"join connections\" obj=join id=7679e094b3ab l=127.0.0.1:8237 r=175.157.18.169:17753\n"
          ]
        },
        {
          "output_type": "stream",
          "name": "stdout",
          "text": [
            "\u001b[1;35mt=2025-03-15T14:55:09+0000 lvl=info msg=\"join connections\" obj=join id=7679e094b3ab l=127.0.0.1:8237 r=175.157.18.169:17753\u001b[0m\n"
          ]
        },
        {
          "output_type": "stream",
          "name": "stderr",
          "text": [
            "INFO:pyngrok.process.ngrok:t=2025-03-15T14:55:09+0000 lvl=info msg=\"join connections\" obj=join id=7af5f227a70d l=127.0.0.1:8237 r=175.157.18.169:17753\n"
          ]
        },
        {
          "output_type": "stream",
          "name": "stdout",
          "text": [
            "\u001b[1;35mt=2025-03-15T14:55:09+0000 lvl=info msg=\"join connections\" obj=join id=7af5f227a70d l=127.0.0.1:8237 r=175.157.18.169:17753\u001b[0m\n"
          ]
        },
        {
          "output_type": "stream",
          "name": "stderr",
          "text": [
            "INFO:pyngrok.process.ngrok:t=2025-03-15T14:55:09+0000 lvl=info msg=\"join connections\" obj=join id=5fec9950cb92 l=127.0.0.1:8237 r=175.157.18.169:17753\n"
          ]
        },
        {
          "output_type": "stream",
          "name": "stdout",
          "text": [
            "\u001b[1;35mt=2025-03-15T14:55:09+0000 lvl=info msg=\"join connections\" obj=join id=5fec9950cb92 l=127.0.0.1:8237 r=175.157.18.169:17753\u001b[0m\n"
          ]
        },
        {
          "output_type": "stream",
          "name": "stderr",
          "text": [
            "INFO:pyngrok.process.ngrok:t=2025-03-15T14:55:09+0000 lvl=info msg=\"join connections\" obj=join id=fe6850c047b8 l=127.0.0.1:8237 r=175.157.18.169:17753\n"
          ]
        },
        {
          "output_type": "stream",
          "name": "stdout",
          "text": [
            "\u001b[1;35mt=2025-03-15T14:55:09+0000 lvl=info msg=\"join connections\" obj=join id=fe6850c047b8 l=127.0.0.1:8237 r=175.157.18.169:17753\u001b[0m\n"
          ]
        },
        {
          "output_type": "stream",
          "name": "stderr",
          "text": [
            "INFO:pyngrok.process.ngrok:t=2025-03-15T14:55:09+0000 lvl=info msg=\"join connections\" obj=join id=77331dbc1fce l=127.0.0.1:8237 r=175.157.18.169:17753\n"
          ]
        },
        {
          "output_type": "stream",
          "name": "stdout",
          "text": [
            "\u001b[1;35mt=2025-03-15T14:55:09+0000 lvl=info msg=\"join connections\" obj=join id=77331dbc1fce l=127.0.0.1:8237 r=175.157.18.169:17753\u001b[0m\n"
          ]
        },
        {
          "output_type": "stream",
          "name": "stderr",
          "text": [
            "INFO:pyngrok.process.ngrok:t=2025-03-15T14:55:09+0000 lvl=info msg=\"join connections\" obj=join id=17000ac930aa l=127.0.0.1:8237 r=175.157.18.169:17753\n"
          ]
        },
        {
          "output_type": "stream",
          "name": "stdout",
          "text": [
            "\u001b[1;35mt=2025-03-15T14:55:09+0000 lvl=info msg=\"join connections\" obj=join id=17000ac930aa l=127.0.0.1:8237 r=175.157.18.169:17753\u001b[0m\n"
          ]
        },
        {
          "output_type": "stream",
          "name": "stderr",
          "text": [
            "INFO:pyngrok.process.ngrok:t=2025-03-15T14:55:09+0000 lvl=info msg=\"join connections\" obj=join id=a076a7b823a1 l=127.0.0.1:8237 r=175.157.18.169:17753\n"
          ]
        },
        {
          "output_type": "stream",
          "name": "stdout",
          "text": [
            "\u001b[1;35mt=2025-03-15T14:55:09+0000 lvl=info msg=\"join connections\" obj=join id=a076a7b823a1 l=127.0.0.1:8237 r=175.157.18.169:17753\u001b[0m\n"
          ]
        },
        {
          "output_type": "stream",
          "name": "stderr",
          "text": [
            "INFO:pyngrok.process.ngrok:t=2025-03-15T14:55:09+0000 lvl=info msg=\"join connections\" obj=join id=e46cfe59b034 l=127.0.0.1:8237 r=175.157.18.169:17753\n"
          ]
        },
        {
          "output_type": "stream",
          "name": "stdout",
          "text": [
            "\u001b[1;35mt=2025-03-15T14:55:09+0000 lvl=info msg=\"join connections\" obj=join id=e46cfe59b034 l=127.0.0.1:8237 r=175.157.18.169:17753\u001b[0m\n",
            "\u001b[1;35mThe local daemon ZenML server is already configured with the same parameters.\u001b[0m\n",
            "\u001b[?25l\u001b[32m⠋\u001b[0m Starting service 'DaemonZenServer[02d4a002-b4dc-41fd-acb1-d5532176b1b0] (type: zen_server, flavor:\n",
            "daemon)'.\n",
            "\n",
            "\u001b[1A\u001b[2K\u001b[1A\u001b[2K\u001b[1A\u001b[2K\u001b[1;35mConnecting to the local daemon ZenML server (\u001b[0m\u001b[34mhttp://127.0.0.1:8237).\u001b[1;35m\u001b[0m\n",
            "\u001b[1;35mUpdated the global store configuration.\u001b[0m\n",
            "\u001b[1;35mConnected to the local daemon ZenML server (\u001b[0m\u001b[34mhttp://127.0.0.1:8237).\u001b[1;35m\u001b[0m\n",
            "\u001b[2;36mThe local ZenML dashboard is available at \u001b[0m\u001b[2;32m'http://127.0.0.1:8237'\u001b[0m\u001b[2;36m.\u001b[0m\n",
            "<IPython.lib.display.IFrame object at 0x79ce01baf3d0>\n"
          ]
        }
      ]
    },
    {
      "cell_type": "code",
      "source": [],
      "metadata": {
        "id": "WyCk2uZZLzUp"
      },
      "execution_count": 9,
      "outputs": []
    }
  ]
}